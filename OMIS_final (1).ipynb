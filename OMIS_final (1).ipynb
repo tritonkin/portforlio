{
 "cells": [
  {
   "cell_type": "markdown",
   "id": "9a360657",
   "metadata": {},
   "source": [
    "# Part 1"
   ]
  },
  {
   "cell_type": "markdown",
   "id": "8e8a0660",
   "metadata": {},
   "source": [
    "### set class Dijkstra referencing the cities graph, shortest path and find path functions"
   ]
  },
  {
   "cell_type": "code",
   "execution_count": 9,
   "id": "82e17592",
   "metadata": {},
   "outputs": [],
   "source": [
    "class Dijkstra:\n",
    "    \n",
    "     def __init__(self, nodes, graph): \n",
    "        self.nodes = nodes #the cities\n",
    "        self.graph = graph #the distance or edge between 2 cities\n",
    "\n",
    "     def shortest_path(self, start, end): #calculate the shortest distance\n",
    "        distance = {n: float(\"inf\") for n in self.nodes} \n",
    "        distance[start] = 0 \n",
    "        visited = {} \n",
    "        predecessors = {} #empty dictionary to store the cities making up the shortest path\n",
    "        \n",
    "        while distance: #iteration to check distances from the origin to every cities\n",
    "            min_node = min(distance, key=distance.get)  #determine the city with smallest distance from origin\n",
    "            \n",
    "            for neighbor, _ in self.graph.get(min_node, {}).items():\n",
    "                if neighbor in visited: #update the iteration to check adjacent cities of the current node\n",
    "                    continue\n",
    "                new_distance = distance[min_node] + self.graph[min_node].get(neighbor, float(\"inf\")) \n",
    "                #add the distance of the adjacent city the current path\n",
    "                \n",
    "                if new_distance < distance[neighbor]: \n",
    "                    distance[neighbor] = new_distance #update the new path if it's better than any existing path\n",
    "                    predecessors[neighbor] = min_node #update path \n",
    "            \n",
    "            visited[min_node] = distance[min_node]\n",
    "            distance.pop(min_node) #remove min node from the original graph to update the shortest path\n",
    "            \n",
    "            if min_node == end: #iteration stops when every cities were visited and reached destination\n",
    "                break\n",
    "        return predecessors, visited\n",
    "\n",
    "    \n",
    "     def find_path(self, predecessors, start, end): #generate the path\n",
    "        path = [end] #list contains only destination\n",
    "        while True:\n",
    "            key = predecessors[path[0]]\n",
    "            path.insert(0, key) #insert at the beginning of the path \n",
    "            if key == start:\n",
    "                break\n",
    "        return path\n",
    "    \n",
    "    \n"
   ]
  },
  {
   "cell_type": "markdown",
   "id": "9d92987a",
   "metadata": {},
   "source": [
    "### input the graph distances"
   ]
  },
  {
   "cell_type": "code",
   "execution_count": 10,
   "id": "112d370d",
   "metadata": {},
   "outputs": [
    {
     "name": "stdout",
     "output_type": "stream",
     "text": [
      "Distance from Origin to Destination is: 75 km\n",
      "The shortest path from Origin to Destination is: Origin - Markham - Destination\n"
     ]
    }
   ],
   "source": [
    "city_nodes = ('Origin', 'Vaughan', 'Richmond Hill', 'Markham', 'North York', 'Destination')\n",
    "\n",
    "city_graph = {\n",
    "             'Origin': {'Vaughan':20, 'Richmond Hill':30, 'Markham':25},\n",
    "             'Vaughan': {'Richmond Hill':5, 'North York':35},\n",
    "             'Richmond Hill': {'Richmond Hill':10, 'Markham':25, 'North York':20},\n",
    "             'Markham': {'North York':25, 'Destination':50},\n",
    "             'North York': {'Destination':30}\n",
    "             }\n",
    "start_node = 'Origin'\n",
    "end_node = 'Destination'\n",
    "\n",
    "dijkstra = Dijkstra(city_nodes, city_graph)\n",
    "\n",
    "p, v = dijkstra.shortest_path(start_node, end_node) \n",
    "print(\"Distance from %s to %s is: %s km\" % (start_node, end_node, v[end_node]))\n",
    "\n",
    "sp = dijkstra.find_path(p, start_node, end_node)\n",
    "print(\"The shortest path from %s to %s is: %s\" % (start_node, end_node, \" - \".join(sp)))"
   ]
  },
  {
   "cell_type": "code",
   "execution_count": 15,
   "id": "708a9458",
   "metadata": {},
   "outputs": [
    {
     "data": {
      "text/plain": [
       "['Origin', 'Markham', 'Destination']"
      ]
     },
     "execution_count": 15,
     "metadata": {},
     "output_type": "execute_result"
    }
   ],
   "source": [
    "sp #shortest path"
   ]
  },
  {
   "cell_type": "markdown",
   "id": "e72458de",
   "metadata": {},
   "source": [
    "# Part 2"
   ]
  },
  {
   "cell_type": "markdown",
   "id": "b6edd288",
   "metadata": {},
   "source": [
    "### Value Iteration"
   ]
  },
  {
   "cell_type": "code",
   "execution_count": 1,
   "id": "93d681a0",
   "metadata": {},
   "outputs": [],
   "source": [
    "def valueiteration(profit, j1prob_no, j2prob_no, j3prob_no, j1prob_yes , j2prob_yes, j3prob_yes , disctfactor, errorrate):\n",
    "    \n",
    "    profit1, profit2, profit3 = profit  \n",
    "    j1j1_probn, j1j2_probn = j1prob_no\n",
    "    j2j1_probn, j2j2_probn, j2j3_probn = j2prob_no\n",
    "    j3j2_probn, j3j3_probn = j3prob_no\n",
    "    j1j1_proby, j1j2_proby = j1prob_yes\n",
    "    j2j1_proby, j2j2_proby, j2j3_proby = j2prob_yes\n",
    "    j3j2_proby, j3j3_proby = j3prob_yes\n",
    "    j1 ,j1n , j1y , j2 , j2n , j2y , j3 , j3n , j3y = (0,0,0,0,0,0,0,0,0)\n",
    "    \n",
    "    while True:\n",
    "\n",
    "        #exception for the first iteration for prevent the error in division by zero on the elif line\n",
    "        if min([j1, j2, j3]) == 0:\n",
    "            j1 = max([j1n,j1y])\n",
    "            j2 = max([j2n,j2y])\n",
    "            j3 = max([j3n,j3y])\n",
    "            j1n = profit1 + disctfactor * (j1 * j1j1_probn + j2 * j1j2_probn)\n",
    "            j1y = profit1-100 + disctfactor * (j1 * j1j1_proby + j2 * j1j2_proby)\n",
    "            j2n = profit2 + disctfactor * (j1 * j2j1_probn + j2 * j2j2_probn + j3 * j2j3_probn)\n",
    "            j2y = profit2-100 + disctfactor * (j1 * j2j1_proby + j2 * j2j2_proby + j3 * j2j3_proby)\n",
    "            j3n = profit3 + disctfactor * (j2 * j3j2_probn + j3 * j3j3_probn)\n",
    "            j3y = profit3-100 + disctfactor * (j2 * j3j2_proby + j3 * j3j3_proby)\n",
    "\n",
    "        #check the different against the user defined gamma\n",
    "        elif (max([j1n,j1y]) - j1)/j1 < errorrate and (max([j2n,j2y])-j2)/j2 < errorrate and (max([j3n,j3y])-j3)/j3 < errorrate:\n",
    "\n",
    "            break\n",
    "        \n",
    "        #main loop for iteration\n",
    "        else:\n",
    "            j1 = max([j1n,j1y])\n",
    "            j2 = max([j2n,j2y])\n",
    "            j3 = max([j3n,j3y])\n",
    "    \n",
    "\n",
    "        j1n = profit1 + disctfactor * (j1 * j1j1_probn + j2 * j1j2_probn)\n",
    "        j1y = profit1-100 + disctfactor * (j1 * j1j1_proby + j2 * j1j2_proby)\n",
    "        j2n = profit2 + disctfactor * (j1 * j2j1_probn + j2 * j2j2_probn + j3 * j2j3_probn)\n",
    "        j2y = profit2-100 + disctfactor * (j1 * j2j1_proby + j2 * j2j2_proby + j3 * j2j3_proby)\n",
    "        j3n = profit3 + disctfactor * (j2 * j3j2_probn + j3 * j3j3_probn)\n",
    "        j3y = profit3-100 + disctfactor * (j2 * j3j2_proby + j3 * j3j3_proby)\n",
    "    \n",
    "    #retrieve the value from the iterations\n",
    "    j1 = max([j1n,j1y])\n",
    "    j2 = max([j2n,j2y])\n",
    "    j3 = max([j3n,j3y])\n",
    "    if j1n > j1y:\n",
    "        print(\"we should not buy Google Ad at j = 1\")\n",
    "    else:\n",
    "        print(\"we should buy Google Ad at j = 1\")\n",
    "    if j2n > j2y:\n",
    "        print(\"we should not buy Google Ad at j = 2\")\n",
    "    else:\n",
    "        print(\"we should buy Google Ad at j = 2\")\n",
    "    if j3n > j3y:\n",
    "        print(\"we should not buy Google Ad at j = 3\")\n",
    "    else:\n",
    "        print(\"we should buy Google Ad at j = 3\")\n",
    "    return j1, j2, j3"
   ]
  },
  {
   "cell_type": "code",
   "execution_count": 2,
   "id": "eb1efe18",
   "metadata": {},
   "outputs": [
    {
     "name": "stdout",
     "output_type": "stream",
     "text": [
      "we should buy Google Ad at j = 1\n",
      "we should buy Google Ad at j = 2\n",
      "we should buy Google Ad at j = 3\n",
      "status 1 value is 10419.239007931312 status 2 value is 11754.93651184946 status 3 value is 14850.128668962392\n"
     ]
    }
   ],
   "source": [
    "profitvalues = [500, 1000, 3000]\n",
    "prob1_no = [0.4, 0.6]\n",
    "prob2_no = [0.3, 0.4, 0.3]\n",
    "prob3_no = [0.6, 0.4]\n",
    "prob1_yes = [0.1, 0.9]\n",
    "prob2_yes = [0.1, 0.6, 0.3]\n",
    "prob3_yes = [0.35, 0.65]\n",
    "discounttfactor = 0.9\n",
    "error_rate = 0.05\n",
    "\n",
    "j1, j2, j3 = valueiteration(profit = profitvalues, j1prob_no = prob1_no , j2prob_no = prob2_no , j3prob_no = prob3_no , j1prob_yes=prob1_yes , j2prob_yes=prob2_yes , j3prob_yes=prob3_yes , disctfactor = discounttfactor, errorrate = error_rate)\n",
    "print('status 1 value is',  j1, 'status 2 value is',  j2, 'status 3 value is',  j3)"
   ]
  },
  {
   "cell_type": "markdown",
   "id": "33cd0040",
   "metadata": {},
   "source": [
    "### Policy Iteration"
   ]
  },
  {
   "cell_type": "code",
   "execution_count": 3,
   "id": "65f40363",
   "metadata": {},
   "outputs": [],
   "source": [
    "def policyiteration(profit, j1prob_no, j2prob_no, j3prob_no, j1prob_yes , j2prob_yes, j3prob_yes , disctfactor, errorrate):\n",
    "    \n",
    "    profit1, profit2, profit3 = profit  \n",
    "    j1j1_probn, j1j2_probn = j1prob_no\n",
    "    j2j1_probn, j2j2_probn, j2j3_probn = j2prob_no\n",
    "    j3j2_probn, j3j3_probn = j3prob_no\n",
    "    j1j1_proby, j1j2_proby = j1prob_yes\n",
    "    j2j1_proby, j2j2_proby, j2j3_proby = j2prob_yes\n",
    "    j3j2_proby, j3j3_proby = j3prob_yes\n",
    "    j1 ,j1n , j1y , j2 , j2n , j2y , j3 , j3n , j3y, j1_temp, j2_temp, j3_temp = (0,0,0,0,0,0,0,0,0,0,0,0)\n",
    "    policy = list((0,0,0))\n",
    "    newpolicy = list((0,0,0))\n",
    "\n",
    "    while True:\n",
    "        #Policy Evaluation\n",
    "        x = True\n",
    "        i = 0\n",
    "        while x==True:\n",
    "            #first iteration\n",
    "            if min([j1, j2, j3]) == 0 or i == 0:\n",
    "                j1 = j1_temp \n",
    "                j2 = j2_temp\n",
    "                j3 = j3_temp\n",
    "                if policy[0] == 0:\n",
    "                    j1_temp = profit1 + disctfactor * (j1 * j1j1_probn + j2 * j1j2_probn)\n",
    "                else:  \n",
    "                    j1_temp = profit1-100 + disctfactor * (j1 * j1j1_proby + j2 * j1j2_proby)\n",
    "                if policy[1] == 0:\n",
    "                    j2_temp = profit2 + disctfactor * (j1 * j2j1_probn + j2 * j2j2_probn + j3 * j2j3_probn)\n",
    "                else:  \n",
    "                    j2_temp = profit2-100 + disctfactor * (j1 * j2j1_proby + j2 * j2j2_proby + j3 * j2j3_proby)\n",
    "                if policy[2] == 0:\n",
    "                    j3_temp = profit3 + disctfactor * (j2 * j3j2_probn + j3 * j3j3_probn)\n",
    "                else:\n",
    "                    j3_temp = profit3-100 + disctfactor * (j2 * j3j2_proby + j3 * j3j3_proby)\n",
    "                i=i+1\n",
    "\n",
    "            #check difference against errorate\n",
    "            elif (j1_temp - j1)/j1 < errorrate and (j2_temp-j2)/j2 < errorrate and (j3_temp-j3)/j3 < errorrate:\n",
    "                j1 = j1_temp \n",
    "                j2 = j2_temp\n",
    "                j3 = j3_temp\n",
    "                x = False\n",
    "            else:\n",
    "                j1 = j1_temp \n",
    "                j2 = j2_temp\n",
    "                j3 = j3_temp\n",
    "                if policy[0] == 0:\n",
    "                    j1_temp = profit1 + disctfactor * (j1 * j1j1_probn + j2 * j1j2_probn)\n",
    "                else:  \n",
    "                    j1_temp = profit1-100 + disctfactor * (j1 * j1j1_proby + j2 * j1j2_proby)\n",
    "                if policy[1] == 0:\n",
    "                    j2_temp = profit2 + disctfactor * (j1 * j2j1_probn + j2 * j2j2_probn + j3 * j2j3_probn)\n",
    "                else:  \n",
    "                    j2_temp = profit2-100 + disctfactor * (j1 * j2j1_proby + j2 * j2j2_proby + j3 * j2j3_proby)\n",
    "                if policy[2] == 0:\n",
    "                    j3_temp = profit3 + disctfactor * (j2 * j3j2_probn + j3 * j3j3_probn)\n",
    "                else:\n",
    "                    j3_temp = profit3-100 + disctfactor * (j2 * j3j2_proby + j3 * j3j3_proby) \n",
    "                i=i+1  \n",
    "\n",
    "\n",
    "        #Policy Update\n",
    "        j1n = profit1 + disctfactor * (j1 * j1j1_probn + j2 * j1j2_probn)\n",
    "        j1y = profit1-100 + disctfactor * (j1 * j1j1_proby + j2 * j1j2_proby)\n",
    "        j2n = profit2 + disctfactor * (j1 * j2j1_probn + j2 * j2j2_probn + j3 * j2j3_probn)\n",
    "        j2y = profit2-100 + disctfactor * (j1 * j2j1_proby + j2 * j2j2_proby + j3 * j2j3_proby)\n",
    "        j3n = profit3 + disctfactor * (j2 * j3j2_probn + j3 * j3j3_probn)\n",
    "        j3y = profit3-100 + disctfactor * (j2 * j3j2_proby + j3 * j3j3_proby)\n",
    "        if max([j1n,j1y]) == j1n:\n",
    "            newpolicy[0] = 0\n",
    "        else:\n",
    "            newpolicy[0] = 1\n",
    "        if max([j2n,j2y]) == j2n:\n",
    "            newpolicy[1] = 0\n",
    "        else:\n",
    "            newpolicy[1] = 1\n",
    "        if max([j3n,j3y]) == j3n:\n",
    "            newpolicy[2] = 0\n",
    "        else:\n",
    "            newpolicy[2] = 1\n",
    "\n",
    "        #check if there is a new policy\n",
    "        if newpolicy == policy:\n",
    "            break\n",
    "        else:\n",
    "            policy = newpolicy\n",
    "    policy = newpolicy\n",
    "    if policy[0] == 0:\n",
    "        print(\"we should not buy Google Ad at j = 1\")\n",
    "    else:  \n",
    "        print(\"we should buy Google Ad at j = 1\")\n",
    "    if policy[1] == 0:\n",
    "        print(\"we should not buy Google Ad at j = 2\")\n",
    "    else:  \n",
    "        print(\"we should buy Google Ad at j = 2\")\n",
    "    if policy[2] == 0:\n",
    "        print(\"we should not buy Google Ad at j = 3\")\n",
    "    else:\n",
    "        print(\"we should buy Google Ad at j = 3\")  "
   ]
  },
  {
   "cell_type": "code",
   "execution_count": 4,
   "id": "64632560",
   "metadata": {},
   "outputs": [
    {
     "name": "stdout",
     "output_type": "stream",
     "text": [
      "we should buy Google Ad at j = 1\n",
      "we should buy Google Ad at j = 2\n",
      "we should buy Google Ad at j = 3\n"
     ]
    }
   ],
   "source": [
    "profitvalues = [500, 1000, 3000]\n",
    "prob1_no = [0.4, 0.6]\n",
    "prob2_no = [0.3, 0.4, 0.3]\n",
    "prob3_no = [0.6, 0.4]\n",
    "prob1_yes = [0.1, 0.9]\n",
    "prob2_yes = [0.1, 0.6, 0.3]\n",
    "prob3_yes = [0.35, 0.65]\n",
    "discounttfactor = 0.9\n",
    "error_rate = 0.05\n",
    "\n",
    "policyiteration(profit = profitvalues, j1prob_no = prob1_no , j2prob_no = prob2_no , j3prob_no = prob3_no , j1prob_yes=prob1_yes , j2prob_yes=prob2_yes , j3prob_yes=prob3_yes , disctfactor = discounttfactor, errorrate = error_rate)"
   ]
  },
  {
   "cell_type": "code",
   "execution_count": null,
   "id": "2a1787b4",
   "metadata": {},
   "outputs": [],
   "source": []
  }
 ],
 "metadata": {
  "kernelspec": {
   "display_name": "Python 3 (ipykernel)",
   "language": "python",
   "name": "python3"
  },
  "language_info": {
   "codemirror_mode": {
    "name": "ipython",
    "version": 3
   },
   "file_extension": ".py",
   "mimetype": "text/x-python",
   "name": "python",
   "nbconvert_exporter": "python",
   "pygments_lexer": "ipython3",
   "version": "3.9.12"
  }
 },
 "nbformat": 4,
 "nbformat_minor": 5
}
