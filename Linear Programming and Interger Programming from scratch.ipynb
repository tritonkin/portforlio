{
 "cells": [
  {
   "attachments": {},
   "cell_type": "markdown",
   "metadata": {},
   "source": [
    "# Part 1 Linear Programming"
   ]
  },
  {
   "cell_type": "code",
   "execution_count": 1,
   "metadata": {},
   "outputs": [],
   "source": [
    "import numpy as np\n",
    "import math"
   ]
  },
  {
   "cell_type": "code",
   "execution_count": 2,
   "metadata": {},
   "outputs": [],
   "source": [
    "def simplex(c1, c2, a11, a12, a21, a22, b1, b2):\n",
    "    # Create the tableau\n",
    "    tableau = np.array([[a11, a12, 1, 0, b1],\n",
    "                        [a21, a22, 0, 1, b2],\n",
    "                        [-c1, -c2, 0, 0, 0]], dtype=float)\n",
    "\n",
    "    # Perform the simplex algorithm\n",
    "    while True:\n",
    "        # Check if the solution is optimal\n",
    "        if tableau[2, :-1].min() >= 0:\n",
    "            break\n",
    "        \n",
    "        # Pick the starting variable\n",
    "        s = np.argmin(tableau[2, :-1])\n",
    "        \n",
    "        # Check if the problem is unbounded\n",
    "        if tableau[:, s].max() <= 0:\n",
    "            return 'Unbounded'\n",
    "        \n",
    "        # Pick the leaving variable\n",
    "        i = int(np.argmin(tableau[:-1, -1] / tableau[:-1, s]))\n",
    "        \n",
    "        # Update the tableau\n",
    "        tableau[i, :] = tableau[i, :] / tableau[i, s]\n",
    "        for k in range(tableau.shape[0]):\n",
    "            if k != i:\n",
    "                tableau[k, :] = tableau[k, :] - tableau[k, s] * tableau[i, :]\n",
    "\n",
    "    z = tableau[-1, -1]\n",
    "    x1 = tableau[0, -1]\n",
    "    x2 = tableau[1, -1]\n",
    "\n",
    "    return z, x1, x2"
   ]
  },
  {
   "cell_type": "code",
   "execution_count": 3,
   "metadata": {},
   "outputs": [
    {
     "name": "stdout",
     "output_type": "stream",
     "text": [
      "Optimal solution: z=387.5, x1=0.5, x2=2.25\n"
     ]
    }
   ],
   "source": [
    "z, x1, x2= simplex(c1=100, c2=150, a11=3, a12=2, a21=1, a22=2, b1=6, b2=5)\n",
    "print(f\"Optimal solution: z={z}, x1={x1}, x2={x2}\")"
   ]
  },
  {
   "attachments": {},
   "cell_type": "markdown",
   "metadata": {},
   "source": [
    "# Part 2 Integer Programming"
   ]
  },
  {
   "cell_type": "code",
   "execution_count": 4,
   "metadata": {},
   "outputs": [],
   "source": [
    "def integer(c1, c2, a11, a12, a21, a22, b1, b2):\n",
    "    # Create the tableau\n",
    "    tableau = np.array([[a11, a12, 1, 0, b1],\n",
    "                        [a21, a22, 0, 1, b2],\n",
    "                        [-c1, -c2, 0, 0, 0]], dtype=float)\n",
    "\n",
    "    # Perform the simplex algorithm\n",
    "    while True:\n",
    "        # Check if the solution is optimal\n",
    "        if tableau[2, :-1].min() >= 0:\n",
    "            break\n",
    "        \n",
    "        # Pick the starting variable\n",
    "        s = np.argmin(tableau[2, :-1])\n",
    "        \n",
    "        # Check if the problem is unbounded\n",
    "        if tableau[:, s].max() <= 0:\n",
    "            return 'Unbounded'\n",
    "        \n",
    "        # Pick the leaving variable\n",
    "        i = int(np.argmin(tableau[:-1, -1] / tableau[:-1, s]))\n",
    "        \n",
    "        # Update the tableau\n",
    "        tableau[i, :] = tableau[i, :] / tableau[i, s]\n",
    "        for k in range(tableau.shape[0]):\n",
    "            if k != i:\n",
    "                tableau[k, :] = tableau[k, :] - tableau[k, s] * tableau[i, :]\n",
    "\n",
    "   \n",
    "    z = tableau[-1, -1]\n",
    "    x1 = tableau[0, -1]\n",
    "    x2 = tableau[1, -1]\n",
    "\n",
    "\n",
    "    #INTEGER PROGRAMMING\n",
    "\n",
    "    #set variables to 0\n",
    "    z1=0\n",
    "    z2=0\n",
    "    z3=0\n",
    "    z4=0\n",
    "\n",
    "    #get upper limit of x1\n",
    "    x1up = math.ceil(x1)\n",
    "    #solve constraint 1 and 2 and compare results\n",
    "    x2a = (b1 - a11*x1up) / a12\n",
    "    x2b = (b2 - a22*x1up) / a22\n",
    "    if x2a >= 0 and x2b >= 0:\n",
    "        # get the lower result\n",
    "        x2c = min([x2a, x2b])\n",
    "        #branch off to upper and lower limit of x2\n",
    "        x2c_up = math.ceil(x2c)\n",
    "        x2c_dn = math.floor(x2c)\n",
    "        #test upper limit against 2 contraints and record z value if passed\n",
    "        if a11*x1up + a12*x2c_up <= b1 and a21*x1up + a22*x2c_up <= b2:\n",
    "            z1 = c1*x1up + c2*x2c_up\n",
    "        if a11*x1up + a12*x2c_dn <= b1 and a21*x1up + a22*x2c_dn <= b2:\n",
    "            z2 = c1*x1up + c2*x2c_dn\n",
    "\n",
    "    #get lower limit of x1\n",
    "    x1dn = math.floor(x1)\n",
    "    #solve constraint 1 and 2 and compare results\n",
    "    x2d = (b1 - a11*x1dn) / a12\n",
    "    x2e = (b2 - a22*x1dn) / a22\n",
    "    #test against positivity constraint\n",
    "    if x2d >= 0 and x2e >= 0:\n",
    "        # get the lower result\n",
    "        x2f = min([x2d, x2e])\n",
    "        #branch off to upper and lower limit of x2\n",
    "        x2f_up = math.ceil(x2f)\n",
    "        x2f_dn = math.floor(x2f)\n",
    "        #test upper limit against 2 contraints and record z value if passed\n",
    "        if a11*x1dn + a12*x2f_up <= b1 and a21*x1dn + a22*x2f_up <= b2:\n",
    "            z3 = c1*x1dn + c2*x2f_up\n",
    "        if a11*x1dn + a12*x2f_dn <= b1 and a21*x1dn + a22*x2f_dn <= b2:\n",
    "            z4 = c1*x1dn + c2*x2f_dn\n",
    "    #return the node with best z value\n",
    "    if max([z1,z2,z3,z4])==z1:\n",
    "        z = z1\n",
    "        x1 = x1up\n",
    "        x2 = x2c_up\n",
    "    elif max([z1,z2,z3,z4])==z2:\n",
    "        z = z2\n",
    "        x1 = x1up\n",
    "        x2 = x2c_dn\n",
    "    elif max([z1,z2,z3,z4])==z3:\n",
    "        z = z3\n",
    "        x1 = x1dn\n",
    "        x2 = x2f_up\n",
    "    elif max([z1,z2,z3,z4])==z4:\n",
    "        z = z4\n",
    "        x1 = x1dn\n",
    "        x2 = x2f_dn\n",
    "    else:\n",
    "        print('computational error')\n",
    "    return z, x1, x2"
   ]
  },
  {
   "cell_type": "code",
   "execution_count": 5,
   "metadata": {},
   "outputs": [
    {
     "name": "stdout",
     "output_type": "stream",
     "text": [
      "Optimal solution: z=300, x1=0, x2=2\n"
     ]
    }
   ],
   "source": [
    "z, x1, x2 = integer(c1=100, c2=150, a11=3, a12=2, a21=1, a22=2, b1=6, b2=5)\n",
    "print(f\"Optimal solution: z={z}, x1={x1}, x2={x2}\")"
   ]
  },
  {
   "attachments": {},
   "cell_type": "markdown",
   "metadata": {},
   "source": [
    "# Part 3 Linear Programming solver execution"
   ]
  },
  {
   "cell_type": "code",
   "execution_count": 7,
   "metadata": {},
   "outputs": [],
   "source": [
    "from ortools.linear_solver import pywraplp"
   ]
  },
  {
   "cell_type": "code",
   "execution_count": 8,
   "metadata": {},
   "outputs": [],
   "source": [
    "# Create the mip solver with the SCIP backend.\n",
    "solver = pywraplp.Solver.CreateSolver('SCIP')"
   ]
  },
  {
   "cell_type": "code",
   "execution_count": 9,
   "metadata": {},
   "outputs": [
    {
     "name": "stdout",
     "output_type": "stream",
     "text": [
      "Number of variables = 6\n"
     ]
    }
   ],
   "source": [
    "infinity = solver.infinity()\n",
    "w1c1 = solver.IntVar(0.0, infinity, 'w1c1')\n",
    "w1c2 = solver.IntVar(0.0, infinity, 'w1c2')\n",
    "w1c3 = solver.IntVar(0.0, infinity, 'w1c3')\n",
    "w2c1 = solver.IntVar(0.0, infinity, 'w2c1')\n",
    "w2c2 = solver.IntVar(0.0, infinity, 'w2c2')\n",
    "w2c3 = solver.IntVar(0.0, infinity, 'w2c3')\n",
    "\n",
    "print('Number of variables =', solver.NumVariables())"
   ]
  },
  {
   "cell_type": "code",
   "execution_count": 10,
   "metadata": {},
   "outputs": [
    {
     "name": "stdout",
     "output_type": "stream",
     "text": [
      "Number of constraints = 5\n"
     ]
    }
   ],
   "source": [
    "#Demand Value\n",
    "solver.Add(w1c1 + w2c1 == 600)\n",
    "\n",
    "solver.Add(w1c2 + w2c2 == 700)\n",
    "\n",
    "solver.Add(w1c3 + w2c3 == 300)\n",
    "\n",
    "#Warehouse Capacity\n",
    "\n",
    "solver.Add(w1c1 + w1c2 + w1c3 <= 500)\n",
    "\n",
    "solver.Add(w2c1 + w2c2 + w2c3 <= 1800)\n",
    "\n",
    "print('Number of constraints =', solver.NumConstraints())"
   ]
  },
  {
   "cell_type": "code",
   "execution_count": 11,
   "metadata": {},
   "outputs": [],
   "source": [
    "# Objective function\n",
    "solver.Minimize(2*w1c1 + 1.5*w1c2 + 10*w1c3 + 4*w2c1 + 3.5*w2c2 + 6*w2c3)"
   ]
  },
  {
   "cell_type": "code",
   "execution_count": 12,
   "metadata": {},
   "outputs": [
    {
     "name": "stdout",
     "output_type": "stream",
     "text": [
      "Solution:\n",
      "Objective value = 5650.0\n",
      "warehouse #1, City #1 = 0.0\n",
      "warehouse #1, City #2 = 500.0\n",
      "warehouse #1, City #3 = 0.0\n",
      "warehouse #2, City #1 = 600.0\n",
      "warehouse #2, City #2 = 200.0\n",
      "warehouse #2, City #3 = 300.0\n"
     ]
    }
   ],
   "source": [
    "# Now we run the Simplex algorithm to get the optimal solution\n",
    "status = solver.Solve()\n",
    "if status == pywraplp.Solver.OPTIMAL:\n",
    "    print('Solution:')\n",
    "    print('Objective value =', solver.Objective().Value())\n",
    "    print('warehouse #1, City #1 =', w1c1.solution_value())\n",
    "    print('warehouse #1, City #2 =', w1c2.solution_value())\n",
    "    print('warehouse #1, City #3 =', w1c3.solution_value())\n",
    "    print('warehouse #2, City #1 =', w2c1.solution_value())\n",
    "    print('warehouse #2, City #2 =', w2c2.solution_value())\n",
    "    print('warehouse #2, City #3 =', w2c3.solution_value())\n",
    "else:\n",
    "    print('The problem does not have an optimal solution.')"
   ]
  }
 ],
 "metadata": {
  "kernelspec": {
   "display_name": "base",
   "language": "python",
   "name": "python3"
  },
  "language_info": {
   "codemirror_mode": {
    "name": "ipython",
    "version": 3
   },
   "file_extension": ".py",
   "mimetype": "text/x-python",
   "name": "python",
   "nbconvert_exporter": "python",
   "pygments_lexer": "ipython3",
   "version": "3.9.12"
  },
  "orig_nbformat": 4,
  "vscode": {
   "interpreter": {
    "hash": "91374e123bc7a669bba28903b5f5e560cc8212b9f306bb4dd4f196a0aa71a4e7"
   }
  }
 },
 "nbformat": 4,
 "nbformat_minor": 2
}
