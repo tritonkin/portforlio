{
 "cells": [
  {
   "cell_type": "code",
   "execution_count": 1,
   "id": "bdc57e83",
   "metadata": {},
   "outputs": [],
   "source": [
    "#importing libraries\n",
    "import numpy as np\n",
    "import pandas as pd\n",
    "import matplotlib.pyplot as plt\n",
    "%matplotlib inline\n",
    "import seaborn as sns\n",
    "from sklearn import preprocessing # normalization\n",
    "from statsmodels.formula.api import ols #linear regression from statsmodels\n",
    "import statsmodels.api as sm #statsmodels library\n",
    "from sklearn.linear_model import LinearRegression #linear regression from sklearn\n",
    "from sklearn.metrics import mean_squared_error, r2_score #metrics for linear model\n",
    "from sklearn.neighbors import KNeighborsClassifier as knnc #knn classifier\n",
    "from sklearn.naive_bayes import GaussianNB as gnb #naive bayes classifier\n",
    "from sklearn.model_selection import cross_val_score #cross validation score\n",
    "from sklearn.model_selection import train_test_split #train test split function\n",
    "from sklearn.metrics import accuracy_score, confusion_matrix #metrics for classification models\n",
    "import scipy.stats as stats #for plotting q-q plot\n",
    "from sklearn.metrics import mean_squared_error, mean_absolute_error\n",
    "from sklearn.preprocessing import PolynomialFeatures\n",
    "from sklearn.linear_model import LinearRegression, SGDRegressor, Ridge, Lasso, ElasticNet\n",
    "from sklearn.decomposition import PCA\n",
    "from sklearn.pipeline import Pipeline\n",
    "from sklearn.preprocessing import StandardScaler\n",
    "from sklearn.model_selection import cross_val_score\n",
    "from sklearn.metrics import explained_variance_score\n",
    "from sklearn.compose import TransformedTargetRegressor\n",
    "from sklearn.compose import make_column_transformer\n",
    "from sklearn.preprocessing import OneHotEncoder"
   ]
  },
  {
   "cell_type": "markdown",
   "id": "f8e8a6e3",
   "metadata": {},
   "source": [
    "# IMPORT DATA"
   ]
  },
  {
   "cell_type": "code",
   "execution_count": 669,
   "id": "2e02b791",
   "metadata": {},
   "outputs": [],
   "source": [
    "beer= pd.read_csv('beer_profile_and_ratings.csv')"
   ]
  },
  {
   "cell_type": "code",
   "execution_count": 670,
   "id": "9ca9d695",
   "metadata": {},
   "outputs": [
    {
     "data": {
      "text/html": [
       "<div>\n",
       "<style scoped>\n",
       "    .dataframe tbody tr th:only-of-type {\n",
       "        vertical-align: middle;\n",
       "    }\n",
       "\n",
       "    .dataframe tbody tr th {\n",
       "        vertical-align: top;\n",
       "    }\n",
       "\n",
       "    .dataframe thead th {\n",
       "        text-align: right;\n",
       "    }\n",
       "</style>\n",
       "<table border=\"1\" class=\"dataframe\">\n",
       "  <thead>\n",
       "    <tr style=\"text-align: right;\">\n",
       "      <th></th>\n",
       "      <th>Name</th>\n",
       "      <th>Style</th>\n",
       "      <th>Brewery</th>\n",
       "      <th>Beer Name (Full)</th>\n",
       "      <th>Description</th>\n",
       "      <th>ABV</th>\n",
       "      <th>Min_IBU</th>\n",
       "      <th>Max_IBU</th>\n",
       "      <th>Astringency</th>\n",
       "      <th>Body</th>\n",
       "      <th>Alcohol</th>\n",
       "      <th>Bitter</th>\n",
       "      <th>Sweet</th>\n",
       "      <th>Sour</th>\n",
       "      <th>Salty</th>\n",
       "      <th>Fruits</th>\n",
       "      <th>Hoppy</th>\n",
       "      <th>Spices</th>\n",
       "      <th>Malty</th>\n",
       "      <th>review_aroma</th>\n",
       "      <th>review_appearance</th>\n",
       "      <th>review_palate</th>\n",
       "      <th>review_taste</th>\n",
       "      <th>review_overall</th>\n",
       "      <th>number_of_reviews</th>\n",
       "    </tr>\n",
       "  </thead>\n",
       "  <tbody>\n",
       "    <tr>\n",
       "      <th>0</th>\n",
       "      <td>Amber</td>\n",
       "      <td>Altbier</td>\n",
       "      <td>Alaskan Brewing Co.</td>\n",
       "      <td>Alaskan Brewing Co. Alaskan Amber</td>\n",
       "      <td>Notes:Richly malty and long on the palate, wit...</td>\n",
       "      <td>5.3</td>\n",
       "      <td>25</td>\n",
       "      <td>50</td>\n",
       "      <td>13</td>\n",
       "      <td>32</td>\n",
       "      <td>9</td>\n",
       "      <td>47</td>\n",
       "      <td>74</td>\n",
       "      <td>33</td>\n",
       "      <td>0</td>\n",
       "      <td>33</td>\n",
       "      <td>57</td>\n",
       "      <td>8</td>\n",
       "      <td>111</td>\n",
       "      <td>3.498994</td>\n",
       "      <td>3.636821</td>\n",
       "      <td>3.556338</td>\n",
       "      <td>3.643863</td>\n",
       "      <td>3.847082</td>\n",
       "      <td>497</td>\n",
       "    </tr>\n",
       "    <tr>\n",
       "      <th>1</th>\n",
       "      <td>Double Bag</td>\n",
       "      <td>Altbier</td>\n",
       "      <td>Long Trail Brewing Co.</td>\n",
       "      <td>Long Trail Brewing Co. Double Bag</td>\n",
       "      <td>Notes:This malty, full-bodied double alt is al...</td>\n",
       "      <td>7.2</td>\n",
       "      <td>25</td>\n",
       "      <td>50</td>\n",
       "      <td>12</td>\n",
       "      <td>57</td>\n",
       "      <td>18</td>\n",
       "      <td>33</td>\n",
       "      <td>55</td>\n",
       "      <td>16</td>\n",
       "      <td>0</td>\n",
       "      <td>24</td>\n",
       "      <td>35</td>\n",
       "      <td>12</td>\n",
       "      <td>84</td>\n",
       "      <td>3.798337</td>\n",
       "      <td>3.846154</td>\n",
       "      <td>3.904366</td>\n",
       "      <td>4.024948</td>\n",
       "      <td>4.034304</td>\n",
       "      <td>481</td>\n",
       "    </tr>\n",
       "    <tr>\n",
       "      <th>2</th>\n",
       "      <td>Long Trail Ale</td>\n",
       "      <td>Altbier</td>\n",
       "      <td>Long Trail Brewing Co.</td>\n",
       "      <td>Long Trail Brewing Co. Long Trail Ale</td>\n",
       "      <td>Notes:Long Trail Ale is a full-bodied amber al...</td>\n",
       "      <td>5.0</td>\n",
       "      <td>25</td>\n",
       "      <td>50</td>\n",
       "      <td>14</td>\n",
       "      <td>37</td>\n",
       "      <td>6</td>\n",
       "      <td>42</td>\n",
       "      <td>43</td>\n",
       "      <td>11</td>\n",
       "      <td>0</td>\n",
       "      <td>10</td>\n",
       "      <td>54</td>\n",
       "      <td>4</td>\n",
       "      <td>62</td>\n",
       "      <td>3.409814</td>\n",
       "      <td>3.667109</td>\n",
       "      <td>3.600796</td>\n",
       "      <td>3.631300</td>\n",
       "      <td>3.830239</td>\n",
       "      <td>377</td>\n",
       "    </tr>\n",
       "  </tbody>\n",
       "</table>\n",
       "</div>"
      ],
      "text/plain": [
       "             Name    Style                 Brewery  \\\n",
       "0           Amber  Altbier     Alaskan Brewing Co.   \n",
       "1      Double Bag  Altbier  Long Trail Brewing Co.   \n",
       "2  Long Trail Ale  Altbier  Long Trail Brewing Co.   \n",
       "\n",
       "                        Beer Name (Full)  \\\n",
       "0      Alaskan Brewing Co. Alaskan Amber   \n",
       "1      Long Trail Brewing Co. Double Bag   \n",
       "2  Long Trail Brewing Co. Long Trail Ale   \n",
       "\n",
       "                                         Description  ABV  Min_IBU  Max_IBU  \\\n",
       "0  Notes:Richly malty and long on the palate, wit...  5.3       25       50   \n",
       "1  Notes:This malty, full-bodied double alt is al...  7.2       25       50   \n",
       "2  Notes:Long Trail Ale is a full-bodied amber al...  5.0       25       50   \n",
       "\n",
       "   Astringency  Body  Alcohol  Bitter  Sweet  Sour  Salty  Fruits  Hoppy  \\\n",
       "0           13    32        9      47     74    33      0      33     57   \n",
       "1           12    57       18      33     55    16      0      24     35   \n",
       "2           14    37        6      42     43    11      0      10     54   \n",
       "\n",
       "   Spices  Malty  review_aroma  review_appearance  review_palate  \\\n",
       "0       8    111      3.498994           3.636821       3.556338   \n",
       "1      12     84      3.798337           3.846154       3.904366   \n",
       "2       4     62      3.409814           3.667109       3.600796   \n",
       "\n",
       "   review_taste  review_overall  number_of_reviews  \n",
       "0      3.643863        3.847082                497  \n",
       "1      4.024948        4.034304                481  \n",
       "2      3.631300        3.830239                377  "
      ]
     },
     "execution_count": 670,
     "metadata": {},
     "output_type": "execute_result"
    }
   ],
   "source": [
    "pd.set_option('display.max_columns', None)\n",
    "beer.head(3)"
   ]
  },
  {
   "cell_type": "markdown",
   "id": "9b4d5c85",
   "metadata": {},
   "source": [
    "# Descriptive Analysis"
   ]
  },
  {
   "cell_type": "code",
   "execution_count": 4,
   "id": "54f8b51f",
   "metadata": {},
   "outputs": [
    {
     "name": "stdout",
     "output_type": "stream",
     "text": [
      "<class 'pandas.core.frame.DataFrame'>\n",
      "RangeIndex: 3197 entries, 0 to 3196\n",
      "Data columns (total 25 columns):\n",
      " #   Column             Non-Null Count  Dtype  \n",
      "---  ------             --------------  -----  \n",
      " 0   Name               3197 non-null   object \n",
      " 1   Style              3197 non-null   object \n",
      " 2   Brewery            3197 non-null   object \n",
      " 3   Beer Name (Full)   3197 non-null   object \n",
      " 4   Description        3197 non-null   object \n",
      " 5   ABV                3197 non-null   float64\n",
      " 6   Min_IBU            3197 non-null   int64  \n",
      " 7   Max_IBU            3197 non-null   int64  \n",
      " 8   Astringency        3197 non-null   int64  \n",
      " 9   Body               3197 non-null   int64  \n",
      " 10  Alcohol            3197 non-null   int64  \n",
      " 11  Bitter             3197 non-null   int64  \n",
      " 12  Sweet              3197 non-null   int64  \n",
      " 13  Sour               3197 non-null   int64  \n",
      " 14  Salty              3197 non-null   int64  \n",
      " 15  Fruits             3197 non-null   int64  \n",
      " 16  Hoppy              3197 non-null   int64  \n",
      " 17  Spices             3197 non-null   int64  \n",
      " 18  Malty              3197 non-null   int64  \n",
      " 19  review_aroma       3197 non-null   float64\n",
      " 20  review_appearance  3197 non-null   float64\n",
      " 21  review_palate      3197 non-null   float64\n",
      " 22  review_taste       3197 non-null   float64\n",
      " 23  review_overall     3197 non-null   float64\n",
      " 24  number_of_reviews  3197 non-null   int64  \n",
      "dtypes: float64(6), int64(14), object(5)\n",
      "memory usage: 624.5+ KB\n"
     ]
    }
   ],
   "source": [
    "beer.info()"
   ]
  },
  {
   "cell_type": "code",
   "execution_count": 5,
   "id": "18353b9b",
   "metadata": {},
   "outputs": [
    {
     "data": {
      "text/html": [
       "<div>\n",
       "<style scoped>\n",
       "    .dataframe tbody tr th:only-of-type {\n",
       "        vertical-align: middle;\n",
       "    }\n",
       "\n",
       "    .dataframe tbody tr th {\n",
       "        vertical-align: top;\n",
       "    }\n",
       "\n",
       "    .dataframe thead th {\n",
       "        text-align: right;\n",
       "    }\n",
       "</style>\n",
       "<table border=\"1\" class=\"dataframe\">\n",
       "  <thead>\n",
       "    <tr style=\"text-align: right;\">\n",
       "      <th></th>\n",
       "      <th>ABV</th>\n",
       "      <th>Min_IBU</th>\n",
       "      <th>Max_IBU</th>\n",
       "      <th>Astringency</th>\n",
       "      <th>Body</th>\n",
       "      <th>Alcohol</th>\n",
       "      <th>Bitter</th>\n",
       "      <th>Sweet</th>\n",
       "      <th>Sour</th>\n",
       "      <th>Salty</th>\n",
       "      <th>Fruits</th>\n",
       "      <th>Hoppy</th>\n",
       "      <th>Spices</th>\n",
       "      <th>Malty</th>\n",
       "      <th>review_aroma</th>\n",
       "      <th>review_appearance</th>\n",
       "      <th>review_palate</th>\n",
       "      <th>review_taste</th>\n",
       "      <th>review_overall</th>\n",
       "      <th>number_of_reviews</th>\n",
       "    </tr>\n",
       "  </thead>\n",
       "  <tbody>\n",
       "    <tr>\n",
       "      <th>count</th>\n",
       "      <td>3197.000000</td>\n",
       "      <td>3197.000000</td>\n",
       "      <td>3197.000000</td>\n",
       "      <td>3197.000000</td>\n",
       "      <td>3197.000000</td>\n",
       "      <td>3197.000000</td>\n",
       "      <td>3197.000000</td>\n",
       "      <td>3197.000000</td>\n",
       "      <td>3197.000000</td>\n",
       "      <td>3197.000000</td>\n",
       "      <td>3197.000000</td>\n",
       "      <td>3197.000000</td>\n",
       "      <td>3197.000000</td>\n",
       "      <td>3197.000000</td>\n",
       "      <td>3197.000000</td>\n",
       "      <td>3197.000000</td>\n",
       "      <td>3197.000000</td>\n",
       "      <td>3197.000000</td>\n",
       "      <td>3197.000000</td>\n",
       "      <td>3197.000000</td>\n",
       "    </tr>\n",
       "    <tr>\n",
       "      <th>mean</th>\n",
       "      <td>6.526688</td>\n",
       "      <td>21.180482</td>\n",
       "      <td>38.986863</td>\n",
       "      <td>16.515796</td>\n",
       "      <td>46.129496</td>\n",
       "      <td>17.055990</td>\n",
       "      <td>36.364404</td>\n",
       "      <td>58.270879</td>\n",
       "      <td>33.145449</td>\n",
       "      <td>1.017204</td>\n",
       "      <td>38.529559</td>\n",
       "      <td>40.924617</td>\n",
       "      <td>18.345637</td>\n",
       "      <td>75.330935</td>\n",
       "      <td>3.638789</td>\n",
       "      <td>3.754393</td>\n",
       "      <td>3.660428</td>\n",
       "      <td>3.702496</td>\n",
       "      <td>3.747522</td>\n",
       "      <td>233.284955</td>\n",
       "    </tr>\n",
       "    <tr>\n",
       "      <th>std</th>\n",
       "      <td>2.546997</td>\n",
       "      <td>13.242242</td>\n",
       "      <td>21.355281</td>\n",
       "      <td>10.410661</td>\n",
       "      <td>25.947842</td>\n",
       "      <td>17.331334</td>\n",
       "      <td>25.791152</td>\n",
       "      <td>34.281310</td>\n",
       "      <td>35.780172</td>\n",
       "      <td>2.132651</td>\n",
       "      <td>32.296646</td>\n",
       "      <td>30.403641</td>\n",
       "      <td>23.756582</td>\n",
       "      <td>39.909338</td>\n",
       "      <td>0.503209</td>\n",
       "      <td>0.403416</td>\n",
       "      <td>0.449937</td>\n",
       "      <td>0.510361</td>\n",
       "      <td>0.444288</td>\n",
       "      <td>361.811847</td>\n",
       "    </tr>\n",
       "    <tr>\n",
       "      <th>min</th>\n",
       "      <td>0.000000</td>\n",
       "      <td>0.000000</td>\n",
       "      <td>0.000000</td>\n",
       "      <td>0.000000</td>\n",
       "      <td>0.000000</td>\n",
       "      <td>0.000000</td>\n",
       "      <td>0.000000</td>\n",
       "      <td>0.000000</td>\n",
       "      <td>0.000000</td>\n",
       "      <td>0.000000</td>\n",
       "      <td>0.000000</td>\n",
       "      <td>0.000000</td>\n",
       "      <td>0.000000</td>\n",
       "      <td>0.000000</td>\n",
       "      <td>1.509615</td>\n",
       "      <td>1.571429</td>\n",
       "      <td>1.285714</td>\n",
       "      <td>1.214286</td>\n",
       "      <td>1.136364</td>\n",
       "      <td>1.000000</td>\n",
       "    </tr>\n",
       "    <tr>\n",
       "      <th>25%</th>\n",
       "      <td>5.000000</td>\n",
       "      <td>15.000000</td>\n",
       "      <td>25.000000</td>\n",
       "      <td>9.000000</td>\n",
       "      <td>29.000000</td>\n",
       "      <td>6.000000</td>\n",
       "      <td>17.000000</td>\n",
       "      <td>33.000000</td>\n",
       "      <td>11.000000</td>\n",
       "      <td>0.000000</td>\n",
       "      <td>12.000000</td>\n",
       "      <td>18.000000</td>\n",
       "      <td>4.000000</td>\n",
       "      <td>45.000000</td>\n",
       "      <td>3.422559</td>\n",
       "      <td>3.604651</td>\n",
       "      <td>3.470021</td>\n",
       "      <td>3.500000</td>\n",
       "      <td>3.566667</td>\n",
       "      <td>23.000000</td>\n",
       "    </tr>\n",
       "    <tr>\n",
       "      <th>50%</th>\n",
       "      <td>6.000000</td>\n",
       "      <td>20.000000</td>\n",
       "      <td>35.000000</td>\n",
       "      <td>14.000000</td>\n",
       "      <td>40.000000</td>\n",
       "      <td>11.000000</td>\n",
       "      <td>31.000000</td>\n",
       "      <td>54.000000</td>\n",
       "      <td>22.000000</td>\n",
       "      <td>0.000000</td>\n",
       "      <td>29.000000</td>\n",
       "      <td>33.000000</td>\n",
       "      <td>10.000000</td>\n",
       "      <td>73.000000</td>\n",
       "      <td>3.720183</td>\n",
       "      <td>3.833333</td>\n",
       "      <td>3.741667</td>\n",
       "      <td>3.791667</td>\n",
       "      <td>3.830239</td>\n",
       "      <td>93.000000</td>\n",
       "    </tr>\n",
       "    <tr>\n",
       "      <th>75%</th>\n",
       "      <td>7.600000</td>\n",
       "      <td>25.000000</td>\n",
       "      <td>45.000000</td>\n",
       "      <td>21.000000</td>\n",
       "      <td>58.000000</td>\n",
       "      <td>22.000000</td>\n",
       "      <td>52.000000</td>\n",
       "      <td>77.000000</td>\n",
       "      <td>42.000000</td>\n",
       "      <td>1.000000</td>\n",
       "      <td>60.000000</td>\n",
       "      <td>56.000000</td>\n",
       "      <td>23.000000</td>\n",
       "      <td>103.000000</td>\n",
       "      <td>3.978000</td>\n",
       "      <td>4.000000</td>\n",
       "      <td>3.965587</td>\n",
       "      <td>4.033333</td>\n",
       "      <td>4.032847</td>\n",
       "      <td>284.000000</td>\n",
       "    </tr>\n",
       "    <tr>\n",
       "      <th>max</th>\n",
       "      <td>57.500000</td>\n",
       "      <td>65.000000</td>\n",
       "      <td>100.000000</td>\n",
       "      <td>81.000000</td>\n",
       "      <td>175.000000</td>\n",
       "      <td>139.000000</td>\n",
       "      <td>150.000000</td>\n",
       "      <td>263.000000</td>\n",
       "      <td>284.000000</td>\n",
       "      <td>48.000000</td>\n",
       "      <td>175.000000</td>\n",
       "      <td>172.000000</td>\n",
       "      <td>184.000000</td>\n",
       "      <td>239.000000</td>\n",
       "      <td>5.000000</td>\n",
       "      <td>4.666667</td>\n",
       "      <td>5.000000</td>\n",
       "      <td>5.000000</td>\n",
       "      <td>5.000000</td>\n",
       "      <td>3290.000000</td>\n",
       "    </tr>\n",
       "  </tbody>\n",
       "</table>\n",
       "</div>"
      ],
      "text/plain": [
       "               ABV      Min_IBU      Max_IBU  Astringency         Body  \\\n",
       "count  3197.000000  3197.000000  3197.000000  3197.000000  3197.000000   \n",
       "mean      6.526688    21.180482    38.986863    16.515796    46.129496   \n",
       "std       2.546997    13.242242    21.355281    10.410661    25.947842   \n",
       "min       0.000000     0.000000     0.000000     0.000000     0.000000   \n",
       "25%       5.000000    15.000000    25.000000     9.000000    29.000000   \n",
       "50%       6.000000    20.000000    35.000000    14.000000    40.000000   \n",
       "75%       7.600000    25.000000    45.000000    21.000000    58.000000   \n",
       "max      57.500000    65.000000   100.000000    81.000000   175.000000   \n",
       "\n",
       "           Alcohol       Bitter        Sweet         Sour        Salty  \\\n",
       "count  3197.000000  3197.000000  3197.000000  3197.000000  3197.000000   \n",
       "mean     17.055990    36.364404    58.270879    33.145449     1.017204   \n",
       "std      17.331334    25.791152    34.281310    35.780172     2.132651   \n",
       "min       0.000000     0.000000     0.000000     0.000000     0.000000   \n",
       "25%       6.000000    17.000000    33.000000    11.000000     0.000000   \n",
       "50%      11.000000    31.000000    54.000000    22.000000     0.000000   \n",
       "75%      22.000000    52.000000    77.000000    42.000000     1.000000   \n",
       "max     139.000000   150.000000   263.000000   284.000000    48.000000   \n",
       "\n",
       "            Fruits        Hoppy       Spices        Malty  review_aroma  \\\n",
       "count  3197.000000  3197.000000  3197.000000  3197.000000   3197.000000   \n",
       "mean     38.529559    40.924617    18.345637    75.330935      3.638789   \n",
       "std      32.296646    30.403641    23.756582    39.909338      0.503209   \n",
       "min       0.000000     0.000000     0.000000     0.000000      1.509615   \n",
       "25%      12.000000    18.000000     4.000000    45.000000      3.422559   \n",
       "50%      29.000000    33.000000    10.000000    73.000000      3.720183   \n",
       "75%      60.000000    56.000000    23.000000   103.000000      3.978000   \n",
       "max     175.000000   172.000000   184.000000   239.000000      5.000000   \n",
       "\n",
       "       review_appearance  review_palate  review_taste  review_overall  \\\n",
       "count        3197.000000    3197.000000   3197.000000     3197.000000   \n",
       "mean            3.754393       3.660428      3.702496        3.747522   \n",
       "std             0.403416       0.449937      0.510361        0.444288   \n",
       "min             1.571429       1.285714      1.214286        1.136364   \n",
       "25%             3.604651       3.470021      3.500000        3.566667   \n",
       "50%             3.833333       3.741667      3.791667        3.830239   \n",
       "75%             4.000000       3.965587      4.033333        4.032847   \n",
       "max             4.666667       5.000000      5.000000        5.000000   \n",
       "\n",
       "       number_of_reviews  \n",
       "count        3197.000000  \n",
       "mean          233.284955  \n",
       "std           361.811847  \n",
       "min             1.000000  \n",
       "25%            23.000000  \n",
       "50%            93.000000  \n",
       "75%           284.000000  \n",
       "max          3290.000000  "
      ]
     },
     "execution_count": 5,
     "metadata": {},
     "output_type": "execute_result"
    }
   ],
   "source": [
    "beer.describe()"
   ]
  },
  {
   "cell_type": "markdown",
   "id": "935d65ec",
   "metadata": {},
   "source": [
    "Next you can also see the categorical variables"
   ]
  },
  {
   "cell_type": "code",
   "execution_count": 6,
   "id": "5728068a",
   "metadata": {},
   "outputs": [
    {
     "data": {
      "text/html": [
       "<div>\n",
       "<style scoped>\n",
       "    .dataframe tbody tr th:only-of-type {\n",
       "        vertical-align: middle;\n",
       "    }\n",
       "\n",
       "    .dataframe tbody tr th {\n",
       "        vertical-align: top;\n",
       "    }\n",
       "\n",
       "    .dataframe thead th {\n",
       "        text-align: right;\n",
       "    }\n",
       "</style>\n",
       "<table border=\"1\" class=\"dataframe\">\n",
       "  <thead>\n",
       "    <tr style=\"text-align: right;\">\n",
       "      <th></th>\n",
       "      <th>Name</th>\n",
       "      <th>Style</th>\n",
       "      <th>Brewery</th>\n",
       "      <th>Beer Name (Full)</th>\n",
       "      <th>Description</th>\n",
       "      <th>ABV</th>\n",
       "      <th>Min_IBU</th>\n",
       "      <th>Max_IBU</th>\n",
       "      <th>Astringency</th>\n",
       "      <th>Body</th>\n",
       "      <th>...</th>\n",
       "      <th>Fruits</th>\n",
       "      <th>Hoppy</th>\n",
       "      <th>Spices</th>\n",
       "      <th>Malty</th>\n",
       "      <th>review_aroma</th>\n",
       "      <th>review_appearance</th>\n",
       "      <th>review_palate</th>\n",
       "      <th>review_taste</th>\n",
       "      <th>review_overall</th>\n",
       "      <th>number_of_reviews</th>\n",
       "    </tr>\n",
       "  </thead>\n",
       "  <tbody>\n",
       "    <tr>\n",
       "      <th>count</th>\n",
       "      <td>3197</td>\n",
       "      <td>3197</td>\n",
       "      <td>3197</td>\n",
       "      <td>3197</td>\n",
       "      <td>3197</td>\n",
       "      <td>3197.000000</td>\n",
       "      <td>3197.000000</td>\n",
       "      <td>3197.000000</td>\n",
       "      <td>3197.000000</td>\n",
       "      <td>3197.000000</td>\n",
       "      <td>...</td>\n",
       "      <td>3197.000000</td>\n",
       "      <td>3197.000000</td>\n",
       "      <td>3197.000000</td>\n",
       "      <td>3197.000000</td>\n",
       "      <td>3197.000000</td>\n",
       "      <td>3197.000000</td>\n",
       "      <td>3197.000000</td>\n",
       "      <td>3197.000000</td>\n",
       "      <td>3197.000000</td>\n",
       "      <td>3197.000000</td>\n",
       "    </tr>\n",
       "    <tr>\n",
       "      <th>unique</th>\n",
       "      <td>3066</td>\n",
       "      <td>111</td>\n",
       "      <td>934</td>\n",
       "      <td>3197</td>\n",
       "      <td>1841</td>\n",
       "      <td>NaN</td>\n",
       "      <td>NaN</td>\n",
       "      <td>NaN</td>\n",
       "      <td>NaN</td>\n",
       "      <td>NaN</td>\n",
       "      <td>...</td>\n",
       "      <td>NaN</td>\n",
       "      <td>NaN</td>\n",
       "      <td>NaN</td>\n",
       "      <td>NaN</td>\n",
       "      <td>NaN</td>\n",
       "      <td>NaN</td>\n",
       "      <td>NaN</td>\n",
       "      <td>NaN</td>\n",
       "      <td>NaN</td>\n",
       "      <td>NaN</td>\n",
       "    </tr>\n",
       "    <tr>\n",
       "      <th>top</th>\n",
       "      <td>Oktoberfest</td>\n",
       "      <td>Lager - Adjunct</td>\n",
       "      <td>Boston Beer Company (Samuel Adams)</td>\n",
       "      <td>Alaskan Brewing Co. Alaskan Amber</td>\n",
       "      <td>Notes:</td>\n",
       "      <td>NaN</td>\n",
       "      <td>NaN</td>\n",
       "      <td>NaN</td>\n",
       "      <td>NaN</td>\n",
       "      <td>NaN</td>\n",
       "      <td>...</td>\n",
       "      <td>NaN</td>\n",
       "      <td>NaN</td>\n",
       "      <td>NaN</td>\n",
       "      <td>NaN</td>\n",
       "      <td>NaN</td>\n",
       "      <td>NaN</td>\n",
       "      <td>NaN</td>\n",
       "      <td>NaN</td>\n",
       "      <td>NaN</td>\n",
       "      <td>NaN</td>\n",
       "    </tr>\n",
       "    <tr>\n",
       "      <th>freq</th>\n",
       "      <td>12</td>\n",
       "      <td>45</td>\n",
       "      <td>40</td>\n",
       "      <td>1</td>\n",
       "      <td>1347</td>\n",
       "      <td>NaN</td>\n",
       "      <td>NaN</td>\n",
       "      <td>NaN</td>\n",
       "      <td>NaN</td>\n",
       "      <td>NaN</td>\n",
       "      <td>...</td>\n",
       "      <td>NaN</td>\n",
       "      <td>NaN</td>\n",
       "      <td>NaN</td>\n",
       "      <td>NaN</td>\n",
       "      <td>NaN</td>\n",
       "      <td>NaN</td>\n",
       "      <td>NaN</td>\n",
       "      <td>NaN</td>\n",
       "      <td>NaN</td>\n",
       "      <td>NaN</td>\n",
       "    </tr>\n",
       "    <tr>\n",
       "      <th>mean</th>\n",
       "      <td>NaN</td>\n",
       "      <td>NaN</td>\n",
       "      <td>NaN</td>\n",
       "      <td>NaN</td>\n",
       "      <td>NaN</td>\n",
       "      <td>6.526688</td>\n",
       "      <td>21.180482</td>\n",
       "      <td>38.986863</td>\n",
       "      <td>16.515796</td>\n",
       "      <td>46.129496</td>\n",
       "      <td>...</td>\n",
       "      <td>38.529559</td>\n",
       "      <td>40.924617</td>\n",
       "      <td>18.345637</td>\n",
       "      <td>75.330935</td>\n",
       "      <td>3.638789</td>\n",
       "      <td>3.754393</td>\n",
       "      <td>3.660428</td>\n",
       "      <td>3.702496</td>\n",
       "      <td>3.747522</td>\n",
       "      <td>233.284955</td>\n",
       "    </tr>\n",
       "    <tr>\n",
       "      <th>std</th>\n",
       "      <td>NaN</td>\n",
       "      <td>NaN</td>\n",
       "      <td>NaN</td>\n",
       "      <td>NaN</td>\n",
       "      <td>NaN</td>\n",
       "      <td>2.546997</td>\n",
       "      <td>13.242242</td>\n",
       "      <td>21.355281</td>\n",
       "      <td>10.410661</td>\n",
       "      <td>25.947842</td>\n",
       "      <td>...</td>\n",
       "      <td>32.296646</td>\n",
       "      <td>30.403641</td>\n",
       "      <td>23.756582</td>\n",
       "      <td>39.909338</td>\n",
       "      <td>0.503209</td>\n",
       "      <td>0.403416</td>\n",
       "      <td>0.449937</td>\n",
       "      <td>0.510361</td>\n",
       "      <td>0.444288</td>\n",
       "      <td>361.811847</td>\n",
       "    </tr>\n",
       "    <tr>\n",
       "      <th>min</th>\n",
       "      <td>NaN</td>\n",
       "      <td>NaN</td>\n",
       "      <td>NaN</td>\n",
       "      <td>NaN</td>\n",
       "      <td>NaN</td>\n",
       "      <td>0.000000</td>\n",
       "      <td>0.000000</td>\n",
       "      <td>0.000000</td>\n",
       "      <td>0.000000</td>\n",
       "      <td>0.000000</td>\n",
       "      <td>...</td>\n",
       "      <td>0.000000</td>\n",
       "      <td>0.000000</td>\n",
       "      <td>0.000000</td>\n",
       "      <td>0.000000</td>\n",
       "      <td>1.509615</td>\n",
       "      <td>1.571429</td>\n",
       "      <td>1.285714</td>\n",
       "      <td>1.214286</td>\n",
       "      <td>1.136364</td>\n",
       "      <td>1.000000</td>\n",
       "    </tr>\n",
       "    <tr>\n",
       "      <th>25%</th>\n",
       "      <td>NaN</td>\n",
       "      <td>NaN</td>\n",
       "      <td>NaN</td>\n",
       "      <td>NaN</td>\n",
       "      <td>NaN</td>\n",
       "      <td>5.000000</td>\n",
       "      <td>15.000000</td>\n",
       "      <td>25.000000</td>\n",
       "      <td>9.000000</td>\n",
       "      <td>29.000000</td>\n",
       "      <td>...</td>\n",
       "      <td>12.000000</td>\n",
       "      <td>18.000000</td>\n",
       "      <td>4.000000</td>\n",
       "      <td>45.000000</td>\n",
       "      <td>3.422559</td>\n",
       "      <td>3.604651</td>\n",
       "      <td>3.470021</td>\n",
       "      <td>3.500000</td>\n",
       "      <td>3.566667</td>\n",
       "      <td>23.000000</td>\n",
       "    </tr>\n",
       "    <tr>\n",
       "      <th>50%</th>\n",
       "      <td>NaN</td>\n",
       "      <td>NaN</td>\n",
       "      <td>NaN</td>\n",
       "      <td>NaN</td>\n",
       "      <td>NaN</td>\n",
       "      <td>6.000000</td>\n",
       "      <td>20.000000</td>\n",
       "      <td>35.000000</td>\n",
       "      <td>14.000000</td>\n",
       "      <td>40.000000</td>\n",
       "      <td>...</td>\n",
       "      <td>29.000000</td>\n",
       "      <td>33.000000</td>\n",
       "      <td>10.000000</td>\n",
       "      <td>73.000000</td>\n",
       "      <td>3.720183</td>\n",
       "      <td>3.833333</td>\n",
       "      <td>3.741667</td>\n",
       "      <td>3.791667</td>\n",
       "      <td>3.830239</td>\n",
       "      <td>93.000000</td>\n",
       "    </tr>\n",
       "    <tr>\n",
       "      <th>75%</th>\n",
       "      <td>NaN</td>\n",
       "      <td>NaN</td>\n",
       "      <td>NaN</td>\n",
       "      <td>NaN</td>\n",
       "      <td>NaN</td>\n",
       "      <td>7.600000</td>\n",
       "      <td>25.000000</td>\n",
       "      <td>45.000000</td>\n",
       "      <td>21.000000</td>\n",
       "      <td>58.000000</td>\n",
       "      <td>...</td>\n",
       "      <td>60.000000</td>\n",
       "      <td>56.000000</td>\n",
       "      <td>23.000000</td>\n",
       "      <td>103.000000</td>\n",
       "      <td>3.978000</td>\n",
       "      <td>4.000000</td>\n",
       "      <td>3.965587</td>\n",
       "      <td>4.033333</td>\n",
       "      <td>4.032847</td>\n",
       "      <td>284.000000</td>\n",
       "    </tr>\n",
       "    <tr>\n",
       "      <th>max</th>\n",
       "      <td>NaN</td>\n",
       "      <td>NaN</td>\n",
       "      <td>NaN</td>\n",
       "      <td>NaN</td>\n",
       "      <td>NaN</td>\n",
       "      <td>57.500000</td>\n",
       "      <td>65.000000</td>\n",
       "      <td>100.000000</td>\n",
       "      <td>81.000000</td>\n",
       "      <td>175.000000</td>\n",
       "      <td>...</td>\n",
       "      <td>175.000000</td>\n",
       "      <td>172.000000</td>\n",
       "      <td>184.000000</td>\n",
       "      <td>239.000000</td>\n",
       "      <td>5.000000</td>\n",
       "      <td>4.666667</td>\n",
       "      <td>5.000000</td>\n",
       "      <td>5.000000</td>\n",
       "      <td>5.000000</td>\n",
       "      <td>3290.000000</td>\n",
       "    </tr>\n",
       "  </tbody>\n",
       "</table>\n",
       "<p>11 rows × 25 columns</p>\n",
       "</div>"
      ],
      "text/plain": [
       "               Name            Style                             Brewery  \\\n",
       "count          3197             3197                                3197   \n",
       "unique         3066              111                                 934   \n",
       "top     Oktoberfest  Lager - Adjunct  Boston Beer Company (Samuel Adams)   \n",
       "freq             12               45                                  40   \n",
       "mean            NaN              NaN                                 NaN   \n",
       "std             NaN              NaN                                 NaN   \n",
       "min             NaN              NaN                                 NaN   \n",
       "25%             NaN              NaN                                 NaN   \n",
       "50%             NaN              NaN                                 NaN   \n",
       "75%             NaN              NaN                                 NaN   \n",
       "max             NaN              NaN                                 NaN   \n",
       "\n",
       "                         Beer Name (Full) Description          ABV  \\\n",
       "count                                3197        3197  3197.000000   \n",
       "unique                               3197        1841          NaN   \n",
       "top     Alaskan Brewing Co. Alaskan Amber      Notes:          NaN   \n",
       "freq                                    1        1347          NaN   \n",
       "mean                                  NaN         NaN     6.526688   \n",
       "std                                   NaN         NaN     2.546997   \n",
       "min                                   NaN         NaN     0.000000   \n",
       "25%                                   NaN         NaN     5.000000   \n",
       "50%                                   NaN         NaN     6.000000   \n",
       "75%                                   NaN         NaN     7.600000   \n",
       "max                                   NaN         NaN    57.500000   \n",
       "\n",
       "            Min_IBU      Max_IBU  Astringency         Body  ...       Fruits  \\\n",
       "count   3197.000000  3197.000000  3197.000000  3197.000000  ...  3197.000000   \n",
       "unique          NaN          NaN          NaN          NaN  ...          NaN   \n",
       "top             NaN          NaN          NaN          NaN  ...          NaN   \n",
       "freq            NaN          NaN          NaN          NaN  ...          NaN   \n",
       "mean      21.180482    38.986863    16.515796    46.129496  ...    38.529559   \n",
       "std       13.242242    21.355281    10.410661    25.947842  ...    32.296646   \n",
       "min        0.000000     0.000000     0.000000     0.000000  ...     0.000000   \n",
       "25%       15.000000    25.000000     9.000000    29.000000  ...    12.000000   \n",
       "50%       20.000000    35.000000    14.000000    40.000000  ...    29.000000   \n",
       "75%       25.000000    45.000000    21.000000    58.000000  ...    60.000000   \n",
       "max       65.000000   100.000000    81.000000   175.000000  ...   175.000000   \n",
       "\n",
       "              Hoppy       Spices        Malty  review_aroma  \\\n",
       "count   3197.000000  3197.000000  3197.000000   3197.000000   \n",
       "unique          NaN          NaN          NaN           NaN   \n",
       "top             NaN          NaN          NaN           NaN   \n",
       "freq            NaN          NaN          NaN           NaN   \n",
       "mean      40.924617    18.345637    75.330935      3.638789   \n",
       "std       30.403641    23.756582    39.909338      0.503209   \n",
       "min        0.000000     0.000000     0.000000      1.509615   \n",
       "25%       18.000000     4.000000    45.000000      3.422559   \n",
       "50%       33.000000    10.000000    73.000000      3.720183   \n",
       "75%       56.000000    23.000000   103.000000      3.978000   \n",
       "max      172.000000   184.000000   239.000000      5.000000   \n",
       "\n",
       "        review_appearance  review_palate  review_taste  review_overall  \\\n",
       "count         3197.000000    3197.000000   3197.000000     3197.000000   \n",
       "unique                NaN            NaN           NaN             NaN   \n",
       "top                   NaN            NaN           NaN             NaN   \n",
       "freq                  NaN            NaN           NaN             NaN   \n",
       "mean             3.754393       3.660428      3.702496        3.747522   \n",
       "std              0.403416       0.449937      0.510361        0.444288   \n",
       "min              1.571429       1.285714      1.214286        1.136364   \n",
       "25%              3.604651       3.470021      3.500000        3.566667   \n",
       "50%              3.833333       3.741667      3.791667        3.830239   \n",
       "75%              4.000000       3.965587      4.033333        4.032847   \n",
       "max              4.666667       5.000000      5.000000        5.000000   \n",
       "\n",
       "        number_of_reviews  \n",
       "count         3197.000000  \n",
       "unique                NaN  \n",
       "top                   NaN  \n",
       "freq                  NaN  \n",
       "mean           233.284955  \n",
       "std            361.811847  \n",
       "min              1.000000  \n",
       "25%             23.000000  \n",
       "50%             93.000000  \n",
       "75%            284.000000  \n",
       "max           3290.000000  \n",
       "\n",
       "[11 rows x 25 columns]"
      ]
     },
     "execution_count": 6,
     "metadata": {},
     "output_type": "execute_result"
    }
   ],
   "source": [
    "##include the \"include='all'\" parameter to also show categorical variables\n",
    "beer.describe(include=\"all\")"
   ]
  },
  {
   "cell_type": "code",
   "execution_count": 7,
   "id": "635ace97",
   "metadata": {},
   "outputs": [
    {
     "data": {
      "text/plain": [
       "Name                 0\n",
       "Style                0\n",
       "Brewery              0\n",
       "Beer Name (Full)     0\n",
       "Description          0\n",
       "ABV                  0\n",
       "Min_IBU              0\n",
       "Max_IBU              0\n",
       "Astringency          0\n",
       "Body                 0\n",
       "Alcohol              0\n",
       "Bitter               0\n",
       "Sweet                0\n",
       "Sour                 0\n",
       "Salty                0\n",
       "Fruits               0\n",
       "Hoppy                0\n",
       "Spices               0\n",
       "Malty                0\n",
       "review_aroma         0\n",
       "review_appearance    0\n",
       "review_palate        0\n",
       "review_taste         0\n",
       "review_overall       0\n",
       "number_of_reviews    0\n",
       "dtype: int64"
      ]
     },
     "execution_count": 7,
     "metadata": {},
     "output_type": "execute_result"
    }
   ],
   "source": [
    "beer.isnull().sum()"
   ]
  },
  {
   "cell_type": "code",
   "execution_count": 8,
   "id": "caf09419",
   "metadata": {},
   "outputs": [
    {
     "data": {
      "text/plain": [
       "0"
      ]
     },
     "execution_count": 8,
     "metadata": {},
     "output_type": "execute_result"
    }
   ],
   "source": [
    "beer.duplicated().sum()"
   ]
  },
  {
   "cell_type": "code",
   "execution_count": 9,
   "id": "9695647b",
   "metadata": {},
   "outputs": [
    {
     "data": {
      "text/plain": [
       "<AxesSubplot:>"
      ]
     },
     "execution_count": 9,
     "metadata": {},
     "output_type": "execute_result"
    },
    {
     "data": {
      "image/png": "[encoded data removed]",
      "text/plain": [
       "<Figure size 1152x1008 with 2 Axes>"
      ]
     },
     "metadata": {
      "needs_background": "light"
     },
     "output_type": "display_data"
    }
   ],
   "source": [
    "plt.figure(figsize=(16,14))\n",
    "sns.heatmap(beer.corr(),vmin=-1,vmax=1,annot=True)"
   ]
  },
  {
   "cell_type": "code",
   "execution_count": 10,
   "id": "586fd857",
   "metadata": {},
   "outputs": [
    {
     "data": {
      "image/png": "[encoded data removed]",
      "text/plain": [
       "<Figure size 432x288 with 1 Axes>"
      ]
     },
     "metadata": {
      "needs_background": "light"
     },
     "output_type": "display_data"
    }
   ],
   "source": [
    "plt.scatter(beer['Sour'],beer['Malty'],alpha=0.5)\n",
    "plt.xlabel('Sour')\n",
    "plt.ylabel('Malty')\n",
    "plt.show()"
   ]
  },
  {
   "cell_type": "code",
   "execution_count": 11,
   "id": "cb683d43",
   "metadata": {},
   "outputs": [
    {
     "data": {
      "image/png": "[encoded data removed]",
      "text/plain": [
       "<Figure size 432x288 with 1 Axes>"
      ]
     },
     "metadata": {
      "needs_background": "light"
     },
     "output_type": "display_data"
    }
   ],
   "source": [
    "plt.scatter(beer['Sour'],beer['Fruits'],alpha=0.5)\n",
    "plt.xlabel('Sour')\n",
    "plt.ylabel('Fruits')\n",
    "plt.show()"
   ]
  },
  {
   "cell_type": "code",
   "execution_count": 12,
   "id": "1a7a37fb",
   "metadata": {},
   "outputs": [
    {
     "data": {
      "image/png": "[encoded data removed]",
      "text/plain": [
       "<Figure size 432x288 with 1 Axes>"
      ]
     },
     "metadata": {
      "needs_background": "light"
     },
     "output_type": "display_data"
    }
   ],
   "source": [
    "plt.scatter(beer['Malty'],beer['Body'],alpha=0.5)\n",
    "plt.xlabel('Malty')\n",
    "plt.ylabel('Body')\n",
    "plt.show()"
   ]
  },
  {
   "cell_type": "code",
   "execution_count": 13,
   "id": "0cfb017a",
   "metadata": {},
   "outputs": [
    {
     "data": {
      "image/png": "[encoded data removed]",
      "text/plain": [
       "<Figure size 432x288 with 1 Axes>"
      ]
     },
     "metadata": {
      "needs_background": "light"
     },
     "output_type": "display_data"
    }
   ],
   "source": [
    "plt.scatter(beer['review_taste'],beer['review_palate'],alpha=0.5)\n",
    "plt.xlabel('review_palate')\n",
    "plt.ylabel('review_taste')\n",
    "plt.show()"
   ]
  },
  {
   "cell_type": "code",
   "execution_count": 14,
   "id": "231121fd",
   "metadata": {},
   "outputs": [
    {
     "data": {
      "image/png": "[encoded data removed]",
      "text/plain": [
       "<Figure size 1008x1008 with 20 Axes>"
      ]
     },
     "metadata": {
      "needs_background": "light"
     },
     "output_type": "display_data"
    }
   ],
   "source": [
    "beer.hist(figsize=(14,14), bins=20)\n",
    "plt.show()"
   ]
  },
  {
   "cell_type": "markdown",
   "id": "03f72bbc",
   "metadata": {},
   "source": [
    "## Transform 'Style' into dummy variables"
   ]
  },
  {
   "cell_type": "code",
   "execution_count": 15,
   "id": "1a9b2573",
   "metadata": {},
   "outputs": [
    {
     "data": {
      "text/plain": [
       "Lager - Adjunct                    45\n",
       "Lager - European Pale              43\n",
       "Wheat Beer - Hefeweizen            42\n",
       "Stout - Irish Dry                  42\n",
       "Lambic - Fruit                     42\n",
       "                                   ..\n",
       "Bière de Champagne / Bière Brut     8\n",
       "Lager - India Pale Lager (IPL)      6\n",
       "IPA - New England                   4\n",
       "Brett Beer                          3\n",
       "Sour - Gose                         3\n",
       "Name: Style, Length: 111, dtype: int64"
      ]
     },
     "execution_count": 15,
     "metadata": {},
     "output_type": "execute_result"
    }
   ],
   "source": [
    "#style is a \"compound\" varaible, need to extract the first part of the strings before getting dummies variables\n",
    "beer['Style'].value_counts()"
   ]
  },
  {
   "cell_type": "code",
   "execution_count": 16,
   "id": "f152935f",
   "metadata": {},
   "outputs": [],
   "source": [
    "beer['Style Group']=beer['Style'].apply(lambda x: x.split('-')[0])\n",
    "beer = beer.drop(['Style'], axis=1)"
   ]
  },
  {
   "cell_type": "code",
   "execution_count": 17,
   "id": "1e8e89fe",
   "metadata": {},
   "outputs": [
    {
     "data": {
      "text/plain": [
       "Lager                              567\n",
       "Stout                              254\n",
       "Wheat Beer                         206\n",
       "Porter                             164\n",
       "IPA                                163\n",
       "Bock                               155\n",
       "Strong Ale                         148\n",
       "Lambic                             100\n",
       "Pale Ale                            98\n",
       "Brown Ale                           94\n",
       "Red Ale                             90\n",
       "Pilsner                             86\n",
       "Bitter                              74\n",
       "Farmhouse Ale                       72\n",
       "Blonde Ale                          64\n",
       "Barleywine                          64\n",
       "Sour                                57\n",
       "Mild Ale                            47\n",
       "Dubbel                              41\n",
       "Winter Warmer                       40\n",
       "Altbier                             39\n",
       "Fruit and Field Beer                37\n",
       "Tripel                              37\n",
       "Scotch Ale / Wee Heavy              35\n",
       "Scottish Ale                        34\n",
       "Old Ale                             34\n",
       "Quadrupel (Quad)                    34\n",
       "Kölsch                              32\n",
       "Low Alcohol Beer                    32\n",
       "Pumpkin Beer                        30\n",
       "Smoked Beer                         28\n",
       "Chile Beer                          25\n",
       "Cream Ale                           24\n",
       "Herb and Spice Beer                 24\n",
       "Happoshu                            23\n",
       "Wild Ale                            23\n",
       "Kvass                               21\n",
       "Rye Beer                            21\n",
       "California Common / Steam Beer      20\n",
       "Gruit / Ancient Herbed Ale          19\n",
       "Rye Beer                            16\n",
       "Braggot                             14\n",
       "Bière de Champagne / Bière Brut      8\n",
       "Brett Beer                           3\n",
       "Name: Style Group, dtype: int64"
      ]
     },
     "execution_count": 17,
     "metadata": {},
     "output_type": "execute_result"
    }
   ],
   "source": [
    "beer['Style Group'].value_counts()"
   ]
  },
  {
   "cell_type": "code",
   "execution_count": 18,
   "id": "2a804255",
   "metadata": {},
   "outputs": [],
   "source": [
    "dummies = pd.get_dummies(beer['Style Group'])\n",
    "beer = pd.concat([beer, dummies], axis=1)"
   ]
  },
  {
   "cell_type": "code",
   "execution_count": 19,
   "id": "b602b244",
   "metadata": {},
   "outputs": [
    {
     "data": {
      "text/html": [
       "<div>\n",
       "<style scoped>\n",
       "    .dataframe tbody tr th:only-of-type {\n",
       "        vertical-align: middle;\n",
       "    }\n",
       "\n",
       "    .dataframe tbody tr th {\n",
       "        vertical-align: top;\n",
       "    }\n",
       "\n",
       "    .dataframe thead th {\n",
       "        text-align: right;\n",
       "    }\n",
       "</style>\n",
       "<table border=\"1\" class=\"dataframe\">\n",
       "  <thead>\n",
       "    <tr style=\"text-align: right;\">\n",
       "      <th></th>\n",
       "      <th>Name</th>\n",
       "      <th>Brewery</th>\n",
       "      <th>Beer Name (Full)</th>\n",
       "      <th>Description</th>\n",
       "      <th>ABV</th>\n",
       "      <th>Min_IBU</th>\n",
       "      <th>Max_IBU</th>\n",
       "      <th>Astringency</th>\n",
       "      <th>Body</th>\n",
       "      <th>Alcohol</th>\n",
       "      <th>...</th>\n",
       "      <th>Scotch Ale / Wee Heavy</th>\n",
       "      <th>Scottish Ale</th>\n",
       "      <th>Smoked Beer</th>\n",
       "      <th>Sour</th>\n",
       "      <th>Stout</th>\n",
       "      <th>Strong Ale</th>\n",
       "      <th>Tripel</th>\n",
       "      <th>Wheat Beer</th>\n",
       "      <th>Wild Ale</th>\n",
       "      <th>Winter Warmer</th>\n",
       "    </tr>\n",
       "  </thead>\n",
       "  <tbody>\n",
       "    <tr>\n",
       "      <th>0</th>\n",
       "      <td>Amber</td>\n",
       "      <td>Alaskan Brewing Co.</td>\n",
       "      <td>Alaskan Brewing Co. Alaskan Amber</td>\n",
       "      <td>Notes:Richly malty and long on the palate, wit...</td>\n",
       "      <td>5.3</td>\n",
       "      <td>25</td>\n",
       "      <td>50</td>\n",
       "      <td>13</td>\n",
       "      <td>32</td>\n",
       "      <td>9</td>\n",
       "      <td>...</td>\n",
       "      <td>0</td>\n",
       "      <td>0</td>\n",
       "      <td>0</td>\n",
       "      <td>0</td>\n",
       "      <td>0</td>\n",
       "      <td>0</td>\n",
       "      <td>0</td>\n",
       "      <td>0</td>\n",
       "      <td>0</td>\n",
       "      <td>0</td>\n",
       "    </tr>\n",
       "    <tr>\n",
       "      <th>1</th>\n",
       "      <td>Double Bag</td>\n",
       "      <td>Long Trail Brewing Co.</td>\n",
       "      <td>Long Trail Brewing Co. Double Bag</td>\n",
       "      <td>Notes:This malty, full-bodied double alt is al...</td>\n",
       "      <td>7.2</td>\n",
       "      <td>25</td>\n",
       "      <td>50</td>\n",
       "      <td>12</td>\n",
       "      <td>57</td>\n",
       "      <td>18</td>\n",
       "      <td>...</td>\n",
       "      <td>0</td>\n",
       "      <td>0</td>\n",
       "      <td>0</td>\n",
       "      <td>0</td>\n",
       "      <td>0</td>\n",
       "      <td>0</td>\n",
       "      <td>0</td>\n",
       "      <td>0</td>\n",
       "      <td>0</td>\n",
       "      <td>0</td>\n",
       "    </tr>\n",
       "    <tr>\n",
       "      <th>2</th>\n",
       "      <td>Long Trail Ale</td>\n",
       "      <td>Long Trail Brewing Co.</td>\n",
       "      <td>Long Trail Brewing Co. Long Trail Ale</td>\n",
       "      <td>Notes:Long Trail Ale is a full-bodied amber al...</td>\n",
       "      <td>5.0</td>\n",
       "      <td>25</td>\n",
       "      <td>50</td>\n",
       "      <td>14</td>\n",
       "      <td>37</td>\n",
       "      <td>6</td>\n",
       "      <td>...</td>\n",
       "      <td>0</td>\n",
       "      <td>0</td>\n",
       "      <td>0</td>\n",
       "      <td>0</td>\n",
       "      <td>0</td>\n",
       "      <td>0</td>\n",
       "      <td>0</td>\n",
       "      <td>0</td>\n",
       "      <td>0</td>\n",
       "      <td>0</td>\n",
       "    </tr>\n",
       "    <tr>\n",
       "      <th>3</th>\n",
       "      <td>Doppelsticke</td>\n",
       "      <td>Uerige Obergärige Hausbrauerei GmbH / Zum Uerige</td>\n",
       "      <td>Uerige Obergärige Hausbrauerei GmbH / Zum Ueri...</td>\n",
       "      <td>Notes:</td>\n",
       "      <td>8.5</td>\n",
       "      <td>25</td>\n",
       "      <td>50</td>\n",
       "      <td>13</td>\n",
       "      <td>55</td>\n",
       "      <td>31</td>\n",
       "      <td>...</td>\n",
       "      <td>0</td>\n",
       "      <td>0</td>\n",
       "      <td>0</td>\n",
       "      <td>0</td>\n",
       "      <td>0</td>\n",
       "      <td>0</td>\n",
       "      <td>0</td>\n",
       "      <td>0</td>\n",
       "      <td>0</td>\n",
       "      <td>0</td>\n",
       "    </tr>\n",
       "    <tr>\n",
       "      <th>4</th>\n",
       "      <td>Sleigh'r Dark Doüble Alt Ale</td>\n",
       "      <td>Ninkasi Brewing Company</td>\n",
       "      <td>Ninkasi Brewing Company Sleigh'r Dark Doüble A...</td>\n",
       "      <td>Notes:Called 'Dark Double Alt' on the label.Se...</td>\n",
       "      <td>7.2</td>\n",
       "      <td>25</td>\n",
       "      <td>50</td>\n",
       "      <td>25</td>\n",
       "      <td>51</td>\n",
       "      <td>26</td>\n",
       "      <td>...</td>\n",
       "      <td>0</td>\n",
       "      <td>0</td>\n",
       "      <td>0</td>\n",
       "      <td>0</td>\n",
       "      <td>0</td>\n",
       "      <td>0</td>\n",
       "      <td>0</td>\n",
       "      <td>0</td>\n",
       "      <td>0</td>\n",
       "      <td>0</td>\n",
       "    </tr>\n",
       "    <tr>\n",
       "      <th>...</th>\n",
       "      <td>...</td>\n",
       "      <td>...</td>\n",
       "      <td>...</td>\n",
       "      <td>...</td>\n",
       "      <td>...</td>\n",
       "      <td>...</td>\n",
       "      <td>...</td>\n",
       "      <td>...</td>\n",
       "      <td>...</td>\n",
       "      <td>...</td>\n",
       "      <td>...</td>\n",
       "      <td>...</td>\n",
       "      <td>...</td>\n",
       "      <td>...</td>\n",
       "      <td>...</td>\n",
       "      <td>...</td>\n",
       "      <td>...</td>\n",
       "      <td>...</td>\n",
       "      <td>...</td>\n",
       "      <td>...</td>\n",
       "      <td>...</td>\n",
       "    </tr>\n",
       "    <tr>\n",
       "      <th>3192</th>\n",
       "      <td>Winter Shredder</td>\n",
       "      <td>Cisco Brewers Inc.</td>\n",
       "      <td>Cisco Brewers Inc. Winter Shredder</td>\n",
       "      <td>Notes:</td>\n",
       "      <td>8.8</td>\n",
       "      <td>35</td>\n",
       "      <td>50</td>\n",
       "      <td>15</td>\n",
       "      <td>37</td>\n",
       "      <td>24</td>\n",
       "      <td>...</td>\n",
       "      <td>0</td>\n",
       "      <td>0</td>\n",
       "      <td>0</td>\n",
       "      <td>0</td>\n",
       "      <td>0</td>\n",
       "      <td>0</td>\n",
       "      <td>0</td>\n",
       "      <td>0</td>\n",
       "      <td>0</td>\n",
       "      <td>1</td>\n",
       "    </tr>\n",
       "    <tr>\n",
       "      <th>3193</th>\n",
       "      <td>The First Snow Ale</td>\n",
       "      <td>RJ Rockers Brewing Company</td>\n",
       "      <td>RJ Rockers Brewing Company First Snow Ale</td>\n",
       "      <td>Notes:This hearty American pale ale contains a...</td>\n",
       "      <td>6.0</td>\n",
       "      <td>35</td>\n",
       "      <td>50</td>\n",
       "      <td>15</td>\n",
       "      <td>31</td>\n",
       "      <td>23</td>\n",
       "      <td>...</td>\n",
       "      <td>0</td>\n",
       "      <td>0</td>\n",
       "      <td>0</td>\n",
       "      <td>0</td>\n",
       "      <td>0</td>\n",
       "      <td>0</td>\n",
       "      <td>0</td>\n",
       "      <td>0</td>\n",
       "      <td>0</td>\n",
       "      <td>1</td>\n",
       "    </tr>\n",
       "    <tr>\n",
       "      <th>3194</th>\n",
       "      <td>Red Nose Winter Ale</td>\n",
       "      <td>Natty Greene's Pub &amp; Brewing Co.</td>\n",
       "      <td>Natty Greene's Pub &amp; Brewing Co. Red Nose Wint...</td>\n",
       "      <td>Notes:</td>\n",
       "      <td>6.8</td>\n",
       "      <td>35</td>\n",
       "      <td>50</td>\n",
       "      <td>8</td>\n",
       "      <td>44</td>\n",
       "      <td>24</td>\n",
       "      <td>...</td>\n",
       "      <td>0</td>\n",
       "      <td>0</td>\n",
       "      <td>0</td>\n",
       "      <td>0</td>\n",
       "      <td>0</td>\n",
       "      <td>0</td>\n",
       "      <td>0</td>\n",
       "      <td>0</td>\n",
       "      <td>0</td>\n",
       "      <td>1</td>\n",
       "    </tr>\n",
       "    <tr>\n",
       "      <th>3195</th>\n",
       "      <td>Fish Tale Winterfish</td>\n",
       "      <td>Fish Brewing Company / Fishbowl Brewpub</td>\n",
       "      <td>Fish Brewing Company / Fishbowl Brewpub Fish T...</td>\n",
       "      <td>Notes:</td>\n",
       "      <td>7.5</td>\n",
       "      <td>35</td>\n",
       "      <td>50</td>\n",
       "      <td>11</td>\n",
       "      <td>36</td>\n",
       "      <td>50</td>\n",
       "      <td>...</td>\n",
       "      <td>0</td>\n",
       "      <td>0</td>\n",
       "      <td>0</td>\n",
       "      <td>0</td>\n",
       "      <td>0</td>\n",
       "      <td>0</td>\n",
       "      <td>0</td>\n",
       "      <td>0</td>\n",
       "      <td>0</td>\n",
       "      <td>1</td>\n",
       "    </tr>\n",
       "    <tr>\n",
       "      <th>3196</th>\n",
       "      <td>Frosted Frog Christmas Ale - Barrel-Aged</td>\n",
       "      <td>Hoppin' Frog Brewery</td>\n",
       "      <td>Hoppin' Frog Brewery Barrel Aged Frosted Frog ...</td>\n",
       "      <td>Notes:The essence of Christmas is captured in ...</td>\n",
       "      <td>8.6</td>\n",
       "      <td>35</td>\n",
       "      <td>50</td>\n",
       "      <td>8</td>\n",
       "      <td>50</td>\n",
       "      <td>49</td>\n",
       "      <td>...</td>\n",
       "      <td>0</td>\n",
       "      <td>0</td>\n",
       "      <td>0</td>\n",
       "      <td>0</td>\n",
       "      <td>0</td>\n",
       "      <td>0</td>\n",
       "      <td>0</td>\n",
       "      <td>0</td>\n",
       "      <td>0</td>\n",
       "      <td>1</td>\n",
       "    </tr>\n",
       "  </tbody>\n",
       "</table>\n",
       "<p>3197 rows × 69 columns</p>\n",
       "</div>"
      ],
      "text/plain": [
       "                                          Name  \\\n",
       "0                                        Amber   \n",
       "1                                   Double Bag   \n",
       "2                               Long Trail Ale   \n",
       "3                                 Doppelsticke   \n",
       "4                 Sleigh'r Dark Doüble Alt Ale   \n",
       "...                                        ...   \n",
       "3192                           Winter Shredder   \n",
       "3193                        The First Snow Ale   \n",
       "3194                       Red Nose Winter Ale   \n",
       "3195                      Fish Tale Winterfish   \n",
       "3196  Frosted Frog Christmas Ale - Barrel-Aged   \n",
       "\n",
       "                                               Brewery  \\\n",
       "0                                  Alaskan Brewing Co.   \n",
       "1                               Long Trail Brewing Co.   \n",
       "2                               Long Trail Brewing Co.   \n",
       "3     Uerige Obergärige Hausbrauerei GmbH / Zum Uerige   \n",
       "4                              Ninkasi Brewing Company   \n",
       "...                                                ...   \n",
       "3192                                Cisco Brewers Inc.   \n",
       "3193                        RJ Rockers Brewing Company   \n",
       "3194                  Natty Greene's Pub & Brewing Co.   \n",
       "3195           Fish Brewing Company / Fishbowl Brewpub   \n",
       "3196                              Hoppin' Frog Brewery   \n",
       "\n",
       "                                       Beer Name (Full)  \\\n",
       "0                     Alaskan Brewing Co. Alaskan Amber   \n",
       "1                     Long Trail Brewing Co. Double Bag   \n",
       "2                 Long Trail Brewing Co. Long Trail Ale   \n",
       "3     Uerige Obergärige Hausbrauerei GmbH / Zum Ueri...   \n",
       "4     Ninkasi Brewing Company Sleigh'r Dark Doüble A...   \n",
       "...                                                 ...   \n",
       "3192                 Cisco Brewers Inc. Winter Shredder   \n",
       "3193          RJ Rockers Brewing Company First Snow Ale   \n",
       "3194  Natty Greene's Pub & Brewing Co. Red Nose Wint...   \n",
       "3195  Fish Brewing Company / Fishbowl Brewpub Fish T...   \n",
       "3196  Hoppin' Frog Brewery Barrel Aged Frosted Frog ...   \n",
       "\n",
       "                                            Description  ABV  Min_IBU  \\\n",
       "0     Notes:Richly malty and long on the palate, wit...  5.3       25   \n",
       "1     Notes:This malty, full-bodied double alt is al...  7.2       25   \n",
       "2     Notes:Long Trail Ale is a full-bodied amber al...  5.0       25   \n",
       "3                                                Notes:  8.5       25   \n",
       "4     Notes:Called 'Dark Double Alt' on the label.Se...  7.2       25   \n",
       "...                                                 ...  ...      ...   \n",
       "3192                                             Notes:  8.8       35   \n",
       "3193  Notes:This hearty American pale ale contains a...  6.0       35   \n",
       "3194                                             Notes:  6.8       35   \n",
       "3195                                             Notes:  7.5       35   \n",
       "3196  Notes:The essence of Christmas is captured in ...  8.6       35   \n",
       "\n",
       "      Max_IBU  Astringency  Body  Alcohol  ...  Scotch Ale / Wee Heavy  \\\n",
       "0          50           13    32        9  ...                       0   \n",
       "1          50           12    57       18  ...                       0   \n",
       "2          50           14    37        6  ...                       0   \n",
       "3          50           13    55       31  ...                       0   \n",
       "4          50           25    51       26  ...                       0   \n",
       "...       ...          ...   ...      ...  ...                     ...   \n",
       "3192       50           15    37       24  ...                       0   \n",
       "3193       50           15    31       23  ...                       0   \n",
       "3194       50            8    44       24  ...                       0   \n",
       "3195       50           11    36       50  ...                       0   \n",
       "3196       50            8    50       49  ...                       0   \n",
       "\n",
       "      Scottish Ale  Smoked Beer  Sour   Stout   Strong Ale   Tripel  \\\n",
       "0                0            0      0       0            0       0   \n",
       "1                0            0      0       0            0       0   \n",
       "2                0            0      0       0            0       0   \n",
       "3                0            0      0       0            0       0   \n",
       "4                0            0      0       0            0       0   \n",
       "...            ...          ...    ...     ...          ...     ...   \n",
       "3192             0            0      0       0            0       0   \n",
       "3193             0            0      0       0            0       0   \n",
       "3194             0            0      0       0            0       0   \n",
       "3195             0            0      0       0            0       0   \n",
       "3196             0            0      0       0            0       0   \n",
       "\n",
       "      Wheat Beer   Wild Ale  Winter Warmer  \n",
       "0               0         0              0  \n",
       "1               0         0              0  \n",
       "2               0         0              0  \n",
       "3               0         0              0  \n",
       "4               0         0              0  \n",
       "...           ...       ...            ...  \n",
       "3192            0         0              1  \n",
       "3193            0         0              1  \n",
       "3194            0         0              1  \n",
       "3195            0         0              1  \n",
       "3196            0         0              1  \n",
       "\n",
       "[3197 rows x 69 columns]"
      ]
     },
     "execution_count": 19,
     "metadata": {},
     "output_type": "execute_result"
    }
   ],
   "source": [
    "beer"
   ]
  },
  {
   "cell_type": "code",
   "execution_count": 20,
   "id": "7b4c0aa8",
   "metadata": {},
   "outputs": [],
   "source": [
    "beer.columns=beer.columns.str.replace(' ', '')"
   ]
  },
  {
   "cell_type": "markdown",
   "id": "ff47663c",
   "metadata": {},
   "source": [
    "## Models for 'review_aroma'"
   ]
  },
  {
   "cell_type": "markdown",
   "id": "98b9f812",
   "metadata": {},
   "source": [
    "Aroma OLS "
   ]
  },
  {
   "cell_type": "code",
   "execution_count": 21,
   "id": "6da96fd2",
   "metadata": {},
   "outputs": [],
   "source": [
    "#Define Variable + Train Test Split\n",
    "x =beer[['ABV', 'Min_IBU',\n",
    "       'Max_IBU', 'Astringency', 'Body', 'Alcohol', 'Bitter', 'Sweet', 'Sour',\n",
    "       'Salty', 'Fruits', 'Hoppy', 'Spices', 'Malty' , 'Lager' , 'Stout' ,'WheatBeer',\\\n",
    "        'Porter' , 'IPA' , 'Bock', 'StrongAle' , 'Lambic' , 'PaleAle', 'BrownAle']]\n",
    "y1 = beer['review_aroma']\n",
    "\n",
    "x_train, x_test, y1_train, y1_test = train_test_split(x, y1, test_size=0.3, random_state=1)\n"
   ]
  },
  {
   "cell_type": "code",
   "execution_count": 22,
   "id": "1d5096f6",
   "metadata": {},
   "outputs": [],
   "source": [
    "model = sm.OLS(y1_train, x_train)\n",
    "aroma_ols = model.fit()"
   ]
  },
  {
   "cell_type": "code",
   "execution_count": 23,
   "id": "450493dc",
   "metadata": {},
   "outputs": [
    {
     "name": "stdout",
     "output_type": "stream",
     "text": [
      "0.8359048819004844\n"
     ]
    }
   ],
   "source": [
    "pred = aroma_ols.predict(x_test)\n",
    "print(np.sqrt(mean_squared_error(y1_test, pred)))"
   ]
  },
  {
   "cell_type": "markdown",
   "id": "ac891485",
   "metadata": {},
   "source": [
    "Aroma Lasso"
   ]
  },
  {
   "cell_type": "code",
   "execution_count": 24,
   "id": "1a7041d8",
   "metadata": {},
   "outputs": [],
   "source": [
    "#polynomial_features = PolynomialFeatures(degree = 2,  include_bias=False)\n",
    "#x_train = polynomial_features.fit_transform(x_train)\n",
    "aroma_ls = Lasso().fit(x_train, y1_train)\n",
    "pred = aroma_ls.predict(x_test)"
   ]
  },
  {
   "cell_type": "code",
   "execution_count": 25,
   "id": "57cb9379",
   "metadata": {},
   "outputs": [
    {
     "name": "stdout",
     "output_type": "stream",
     "text": [
      "0.41868682690260767\n"
     ]
    }
   ],
   "source": [
    "print(np.sqrt(mean_squared_error(y1_test, pred)))"
   ]
  },
  {
   "cell_type": "markdown",
   "id": "3dfb2288",
   "metadata": {},
   "source": [
    "Aroma Ridge"
   ]
  },
  {
   "cell_type": "code",
   "execution_count": 26,
   "id": "1ee0c9e3",
   "metadata": {},
   "outputs": [],
   "source": [
    "#polynomial_features = PolynomialFeatures(degree = 2,  include_bias=False)\n",
    "#x_train = polynomial_features.fit_transform(x_train)\n",
    "aroma_rd = Ridge(solver='sag').fit(x_train, y1_train)\n",
    "pred = aroma_rd.predict(x_test)"
   ]
  },
  {
   "cell_type": "code",
   "execution_count": 27,
   "id": "ae86085f",
   "metadata": {},
   "outputs": [
    {
     "name": "stdout",
     "output_type": "stream",
     "text": [
      "0.37225001376718797\n"
     ]
    }
   ],
   "source": [
    "print(np.sqrt(mean_squared_error(y1_test, pred)))"
   ]
  },
  {
   "cell_type": "markdown",
   "id": "be28537d",
   "metadata": {},
   "source": [
    "Aroma Elastic Net Regression"
   ]
  },
  {
   "cell_type": "code",
   "execution_count": 28,
   "id": "8cbe1d37",
   "metadata": {},
   "outputs": [],
   "source": [
    "#polynomial_features = PolynomialFeatures(degree = 2,  include_bias=False)\n",
    "#x_train = polynomial_features.fit_transform(x_train)\n",
    "aroma_enr = ElasticNet().fit(x_train, y1_train)\n",
    "pred = aroma_enr.predict(x_test)"
   ]
  },
  {
   "cell_type": "code",
   "execution_count": 29,
   "id": "64f3afea",
   "metadata": {},
   "outputs": [
    {
     "name": "stdout",
     "output_type": "stream",
     "text": [
      "0.4131014853334763\n"
     ]
    }
   ],
   "source": [
    "print(np.sqrt(mean_squared_error(y1_test, pred)))"
   ]
  },
  {
   "cell_type": "markdown",
   "id": "52bee7b1",
   "metadata": {},
   "source": [
    "# Models for review_appearance\t"
   ]
  },
  {
   "cell_type": "code",
   "execution_count": 30,
   "id": "fb12e86f",
   "metadata": {},
   "outputs": [],
   "source": [
    "#Define Variable + Train Test Split\n",
    "x =beer[['ABV', 'Min_IBU',\n",
    "       'Max_IBU', 'Astringency', 'Body', 'Alcohol', 'Bitter', 'Sweet', 'Sour',\n",
    "       'Salty', 'Fruits', 'Hoppy', 'Spices', 'Malty' , 'Lager' , 'Stout' ,'WheatBeer',\\\n",
    "        'Porter' , 'IPA' , 'Bock', 'StrongAle' , 'Lambic' , 'PaleAle', 'BrownAle']]\n",
    "y2 = beer['review_appearance']\n",
    "\n",
    "x_train, x_test, y2_train, y2_test = train_test_split(x, y2, test_size=0.3, random_state=1)"
   ]
  },
  {
   "cell_type": "markdown",
   "id": "e0ce64de",
   "metadata": {},
   "source": [
    "appearance ols"
   ]
  },
  {
   "cell_type": "code",
   "execution_count": 31,
   "id": "2e102999",
   "metadata": {},
   "outputs": [],
   "source": [
    "model = sm.OLS(y2_train,x_train)\n",
    "appear_ols = model.fit()"
   ]
  },
  {
   "cell_type": "code",
   "execution_count": 32,
   "id": "34f9fc4b",
   "metadata": {},
   "outputs": [
    {
     "name": "stdout",
     "output_type": "stream",
     "text": [
      "0.8587897995149576\n"
     ]
    }
   ],
   "source": [
    "pred = appear_ols.predict(x_test)\n",
    "print(np.sqrt(mean_squared_error(y2_test, pred)))"
   ]
  },
  {
   "cell_type": "markdown",
   "id": "907dd7a5",
   "metadata": {},
   "source": [
    "Appearance Lasso "
   ]
  },
  {
   "cell_type": "code",
   "execution_count": 33,
   "id": "90e54ac4",
   "metadata": {},
   "outputs": [],
   "source": [
    "appear_ls = Lasso().fit(x_train, y2_train)\n",
    "pred = appear_ls.predict(x_test)"
   ]
  },
  {
   "cell_type": "code",
   "execution_count": 34,
   "id": "7e2287c3",
   "metadata": {},
   "outputs": [
    {
     "name": "stdout",
     "output_type": "stream",
     "text": [
      "0.3414380397615071\n"
     ]
    }
   ],
   "source": [
    "print(np.sqrt(mean_squared_error(y2_test, pred)))"
   ]
  },
  {
   "cell_type": "markdown",
   "id": "c8ee0b3b",
   "metadata": {},
   "source": [
    "Appearance Ridge "
   ]
  },
  {
   "cell_type": "code",
   "execution_count": 35,
   "id": "267b1e2a",
   "metadata": {},
   "outputs": [],
   "source": [
    "appear_rd = Ridge(solver='sag').fit(x_train, y2_train)\n",
    "pred = appear_rd.predict(x_test)"
   ]
  },
  {
   "cell_type": "code",
   "execution_count": 36,
   "id": "a9d7ac05",
   "metadata": {},
   "outputs": [
    {
     "name": "stdout",
     "output_type": "stream",
     "text": [
      "0.3042537274545288\n"
     ]
    }
   ],
   "source": [
    "print(np.sqrt(mean_squared_error(y2_test, pred)))"
   ]
  },
  {
   "cell_type": "markdown",
   "id": "6841d36d",
   "metadata": {},
   "source": [
    "Appearance Elastic Net Regression "
   ]
  },
  {
   "cell_type": "code",
   "execution_count": 37,
   "id": "178aeb29",
   "metadata": {},
   "outputs": [],
   "source": [
    "appear_enr = ElasticNet().fit(x_train, y2_train)\n",
    "pred = appear_enr.predict(x_test)"
   ]
  },
  {
   "cell_type": "code",
   "execution_count": 38,
   "id": "df603061",
   "metadata": {},
   "outputs": [
    {
     "name": "stdout",
     "output_type": "stream",
     "text": [
      "0.3352801094796713\n"
     ]
    }
   ],
   "source": [
    "print(np.sqrt(mean_squared_error(y2_test, pred)))"
   ]
  },
  {
   "cell_type": "code",
   "execution_count": null,
   "id": "fda3a5fd",
   "metadata": {},
   "outputs": [],
   "source": []
  },
  {
   "cell_type": "markdown",
   "id": "688c4341",
   "metadata": {},
   "source": [
    "# Models for review_palate"
   ]
  },
  {
   "cell_type": "code",
   "execution_count": 39,
   "id": "8ed024c0",
   "metadata": {},
   "outputs": [],
   "source": [
    "#Define Variable + Train Test Split\n",
    "x =beer[['ABV', 'Min_IBU',\n",
    "       'Max_IBU', 'Astringency', 'Body', 'Alcohol', 'Bitter', 'Sweet', 'Sour',\n",
    "       'Salty', 'Fruits', 'Hoppy', 'Spices', 'Malty' , 'Lager' , 'Stout' ,'WheatBeer',\\\n",
    "        'Porter' , 'IPA' , 'Bock', 'StrongAle' , 'Lambic' , 'PaleAle', 'BrownAle']]\n",
    "y3 = beer['review_palate']\n",
    "\n",
    "x_train, x_test, y3_train, y3_test = train_test_split(x, y3, test_size=0.3, random_state=1)"
   ]
  },
  {
   "cell_type": "code",
   "execution_count": 40,
   "id": "cae3e074",
   "metadata": {},
   "outputs": [],
   "source": [
    "model = sm.OLS(y3_train,x_train)\n",
    "palate_ols = model.fit()"
   ]
  },
  {
   "cell_type": "code",
   "execution_count": 41,
   "id": "34ac99e8",
   "metadata": {},
   "outputs": [
    {
     "name": "stdout",
     "output_type": "stream",
     "text": [
      "0.836038641063412\n"
     ]
    }
   ],
   "source": [
    "pred = palate_ols.predict(x_test)\n",
    "print(np.sqrt(mean_squared_error(y3_test, pred)))"
   ]
  },
  {
   "cell_type": "markdown",
   "id": "4d04b88d",
   "metadata": {},
   "source": [
    "Palate Lasso Skipped Polynomial Features!"
   ]
  },
  {
   "cell_type": "code",
   "execution_count": 42,
   "id": "cad3bf92",
   "metadata": {},
   "outputs": [],
   "source": [
    "palate_ls = Lasso().fit(x_train, y3_train)\n",
    "pred = palate_ls.predict(x_test)"
   ]
  },
  {
   "cell_type": "code",
   "execution_count": 43,
   "id": "a5b0211d",
   "metadata": {},
   "outputs": [
    {
     "name": "stdout",
     "output_type": "stream",
     "text": [
      "0.39624757852286197\n"
     ]
    }
   ],
   "source": [
    "print(np.sqrt(mean_squared_error(y3_test, pred)))"
   ]
  },
  {
   "cell_type": "markdown",
   "id": "78b29d27",
   "metadata": {},
   "source": [
    "Palate Ridge"
   ]
  },
  {
   "cell_type": "code",
   "execution_count": 44,
   "id": "75f506b9",
   "metadata": {},
   "outputs": [],
   "source": [
    "palate_rd = Ridge(solver='sag').fit(x_train, y3_train)\n",
    "pred = palate_rd.predict(x_test)"
   ]
  },
  {
   "cell_type": "code",
   "execution_count": 45,
   "id": "1c3721e6",
   "metadata": {},
   "outputs": [
    {
     "name": "stdout",
     "output_type": "stream",
     "text": [
      "0.3559431448915804\n"
     ]
    }
   ],
   "source": [
    "print(np.sqrt(mean_squared_error(y3_test, pred)))"
   ]
  },
  {
   "cell_type": "markdown",
   "id": "c297937e",
   "metadata": {},
   "source": [
    "palate Elastic Net Regression"
   ]
  },
  {
   "cell_type": "code",
   "execution_count": 46,
   "id": "a7f3b04a",
   "metadata": {},
   "outputs": [],
   "source": [
    "palate_enr = ElasticNet().fit(x_train, y3_train)\n",
    "pred = palate_enr.predict(x_test)"
   ]
  },
  {
   "cell_type": "code",
   "execution_count": 47,
   "id": "336d34e2",
   "metadata": {},
   "outputs": [
    {
     "name": "stdout",
     "output_type": "stream",
     "text": [
      "0.3892047240938946\n"
     ]
    }
   ],
   "source": [
    "print(np.sqrt(mean_squared_error(y3_test, pred)))"
   ]
  },
  {
   "cell_type": "code",
   "execution_count": null,
   "id": "e5accee1",
   "metadata": {},
   "outputs": [],
   "source": []
  },
  {
   "cell_type": "markdown",
   "id": "8b4ea441",
   "metadata": {},
   "source": [
    "# Models for review_taste"
   ]
  },
  {
   "cell_type": "code",
   "execution_count": 48,
   "id": "7397fdd3",
   "metadata": {},
   "outputs": [],
   "source": [
    "#Define Variable + Train Test Split\n",
    "x =beer[['ABV', 'Min_IBU',\n",
    "       'Max_IBU', 'Astringency', 'Body', 'Alcohol', 'Bitter', 'Sweet', 'Sour',\n",
    "       'Salty', 'Fruits', 'Hoppy', 'Spices', 'Malty' , 'Lager' , 'Stout' ,'WheatBeer',\\\n",
    "        'Porter' , 'IPA' , 'Bock', 'StrongAle' , 'Lambic' , 'PaleAle', 'BrownAle']]\n",
    "y4 = beer['review_taste']\n",
    "\n",
    "x_train, x_test, y4_train, y4_test = train_test_split(x, y4, test_size=0.3, random_state=1)"
   ]
  },
  {
   "cell_type": "code",
   "execution_count": 49,
   "id": "5fd668f0",
   "metadata": {},
   "outputs": [],
   "source": [
    "model = sm.OLS(y4_train,x_train)\n",
    "taste_ols = model.fit()"
   ]
  },
  {
   "cell_type": "code",
   "execution_count": 50,
   "id": "4ebbebad",
   "metadata": {},
   "outputs": [
    {
     "name": "stdout",
     "output_type": "stream",
     "text": [
      "0.8677547439901347\n"
     ]
    }
   ],
   "source": [
    "pred = taste_ols.predict(x_test)\n",
    "print(np.sqrt(mean_squared_error(y4_test, pred)))"
   ]
  },
  {
   "cell_type": "markdown",
   "id": "df30f6cb",
   "metadata": {},
   "source": [
    "Taste Lasso "
   ]
  },
  {
   "cell_type": "code",
   "execution_count": 51,
   "id": "8199fd7b",
   "metadata": {},
   "outputs": [],
   "source": [
    "taste_ls = Lasso().fit(x_train, y4_train)\n",
    "pred = taste_ls.predict(x_test)"
   ]
  },
  {
   "cell_type": "code",
   "execution_count": 52,
   "id": "7605ff47",
   "metadata": {},
   "outputs": [
    {
     "name": "stdout",
     "output_type": "stream",
     "text": [
      "0.4459076186350385\n"
     ]
    }
   ],
   "source": [
    "print(np.sqrt(mean_squared_error(y4_test, pred)))"
   ]
  },
  {
   "cell_type": "markdown",
   "id": "933b8531",
   "metadata": {},
   "source": [
    "Aroma Ridge "
   ]
  },
  {
   "cell_type": "code",
   "execution_count": 53,
   "id": "f9b1d5a4",
   "metadata": {},
   "outputs": [],
   "source": [
    "taste_rd = Ridge(solver='sag').fit(x_train, y4_train)\n",
    "pred = taste_rd.predict(x_test)"
   ]
  },
  {
   "cell_type": "code",
   "execution_count": 54,
   "id": "5a230692",
   "metadata": {},
   "outputs": [
    {
     "name": "stdout",
     "output_type": "stream",
     "text": [
      "0.40870218701270833\n"
     ]
    }
   ],
   "source": [
    "print(np.sqrt(mean_squared_error(y4_test, pred)))"
   ]
  },
  {
   "cell_type": "markdown",
   "id": "75890eae",
   "metadata": {},
   "source": [
    "Taste Elastic Net Regression "
   ]
  },
  {
   "cell_type": "code",
   "execution_count": 55,
   "id": "4a2a14ca",
   "metadata": {},
   "outputs": [],
   "source": [
    "Taste_enr = ElasticNet().fit(x_train, y4_train)\n",
    "pred = Taste_enr.predict(x_test)"
   ]
  },
  {
   "cell_type": "code",
   "execution_count": 56,
   "id": "5f08b471",
   "metadata": {},
   "outputs": [
    {
     "name": "stdout",
     "output_type": "stream",
     "text": [
      "0.43908470459058535\n"
     ]
    }
   ],
   "source": [
    "print(np.sqrt(mean_squared_error(y4_test, pred)))"
   ]
  },
  {
   "cell_type": "code",
   "execution_count": null,
   "id": "b3ad84af",
   "metadata": {},
   "outputs": [],
   "source": []
  },
  {
   "cell_type": "markdown",
   "id": "fe84c3ec",
   "metadata": {},
   "source": [
    "# Model for review_overall"
   ]
  },
  {
   "cell_type": "code",
   "execution_count": 57,
   "id": "acef0de0",
   "metadata": {},
   "outputs": [],
   "source": [
    "#Define Variable + Train Test Split\n",
    "xx =beer[['review_aroma', 'review_appearance','review_palate','review_taste']]\n",
    "yy = beer['review_overall']\n",
    "\n",
    "xx_train, xx_test, yy_train, yy_test = train_test_split(xx, yy, test_size=0.3, random_state=1)"
   ]
  },
  {
   "cell_type": "code",
   "execution_count": 58,
   "id": "4aa88594",
   "metadata": {},
   "outputs": [],
   "source": [
    "model = sm.OLS(yy_train,xx_train)\n",
    "overall_ols = model.fit()"
   ]
  },
  {
   "cell_type": "code",
   "execution_count": 59,
   "id": "5d3d0d34",
   "metadata": {},
   "outputs": [
    {
     "name": "stdout",
     "output_type": "stream",
     "text": [
      "0.16780376496432867\n"
     ]
    }
   ],
   "source": [
    "pred = overall_ols.predict(xx_test)\n",
    "print(np.sqrt(mean_squared_error(yy_test, pred)))"
   ]
  },
  {
   "cell_type": "code",
   "execution_count": 60,
   "id": "348b31c2",
   "metadata": {},
   "outputs": [],
   "source": [
    "overall_ls = Lasso().fit(xx_train, yy_train)\n",
    "pred = overall_ls.predict(xx_test)"
   ]
  },
  {
   "cell_type": "code",
   "execution_count": 61,
   "id": "0898a0db",
   "metadata": {},
   "outputs": [
    {
     "name": "stdout",
     "output_type": "stream",
     "text": [
      "0.4520122685658794\n"
     ]
    }
   ],
   "source": [
    "print(np.sqrt(mean_squared_error(yy_test, pred)))"
   ]
  },
  {
   "cell_type": "code",
   "execution_count": 62,
   "id": "8e5513d8",
   "metadata": {},
   "outputs": [],
   "source": [
    "overall_rd = Ridge(solver='sag').fit(xx_train, yy_train)\n",
    "pred = overall_rd.predict(xx_test)"
   ]
  },
  {
   "cell_type": "code",
   "execution_count": 63,
   "id": "df9f21cb",
   "metadata": {},
   "outputs": [
    {
     "name": "stdout",
     "output_type": "stream",
     "text": [
      "0.15529514672899733\n"
     ]
    }
   ],
   "source": [
    "print(np.sqrt(mean_squared_error(yy_test, pred)))"
   ]
  },
  {
   "cell_type": "code",
   "execution_count": 64,
   "id": "c64f2401",
   "metadata": {},
   "outputs": [],
   "source": [
    "overall_enr = ElasticNet().fit(xx_train, yy_train)\n",
    "pred = overall_enr.predict(xx_test)"
   ]
  },
  {
   "cell_type": "code",
   "execution_count": 65,
   "id": "3d4f4543",
   "metadata": {},
   "outputs": [
    {
     "name": "stdout",
     "output_type": "stream",
     "text": [
      "0.4520122685658794\n"
     ]
    }
   ],
   "source": [
    "print(np.sqrt(mean_squared_error(yy_test, pred)))"
   ]
  },
  {
   "cell_type": "code",
   "execution_count": null,
   "id": "a6f66811",
   "metadata": {},
   "outputs": [],
   "source": []
  },
  {
   "cell_type": "markdown",
   "id": "019b8db2",
   "metadata": {},
   "source": [
    "## Pipeline Building"
   ]
  },
  {
   "cell_type": "markdown",
   "id": "d0082ce3",
   "metadata": {},
   "source": [
    "### we managed to find a way to make use of pipeline so we tried to use it instead"
   ]
  },
  {
   "cell_type": "code",
   "execution_count": 66,
   "id": "a9220758",
   "metadata": {},
   "outputs": [],
   "source": [
    "#Linear regression\n",
    "pipeline_ln=Pipeline([('scalar1',StandardScaler()),\n",
    "                     ('pca1',PCA(n_components=10)),\n",
    "                     ('Linear',LinearRegression())])"
   ]
  },
  {
   "cell_type": "code",
   "execution_count": 67,
   "id": "351d027f",
   "metadata": {},
   "outputs": [],
   "source": [
    "#Lasso regression\n",
    "pipeline_ls=Pipeline([('scalar2',StandardScaler()),\n",
    "                     ('pca2',PCA(n_components=10)),\n",
    "                     ('Lasso',Lasso())])"
   ]
  },
  {
   "cell_type": "code",
   "execution_count": 68,
   "id": "b6903afc",
   "metadata": {},
   "outputs": [],
   "source": [
    "#Ridge regression\n",
    "pipeline_rd=Pipeline([('scalar3',StandardScaler()),\n",
    "                     ('pca3',PCA(n_components=10)),\n",
    "                     ('Ridge',Ridge())])"
   ]
  },
  {
   "cell_type": "code",
   "execution_count": 69,
   "id": "97619564",
   "metadata": {},
   "outputs": [],
   "source": [
    "#Elastic Net regression\n",
    "pipeline_en=Pipeline([('scalar4',StandardScaler()),\n",
    "                     ('pca4',PCA(n_components=10)),\n",
    "                     ('Elastic Net',ElasticNet())])"
   ]
  },
  {
   "cell_type": "code",
   "execution_count": 70,
   "id": "c6d79e82",
   "metadata": {},
   "outputs": [],
   "source": [
    "pipelines = [pipeline_ln, pipeline_ls, pipeline_rd, pipeline_en]"
   ]
  },
  {
   "cell_type": "code",
   "execution_count": 71,
   "id": "633b8a90",
   "metadata": {},
   "outputs": [],
   "source": [
    "#Define Variable + Train Test Split\n",
    "x =beer[['ABV', 'Min_IBU',\n",
    "       'Max_IBU', 'Astringency', 'Body', 'Alcohol', 'Bitter', 'Sweet', 'Sour',\n",
    "       'Salty', 'Fruits', 'Hoppy', 'Spices', 'Malty' , 'Lager' , 'Stout' ,'WheatBeer',\\\n",
    "        'Porter' , 'IPA' , 'Bock', 'StrongAle' , 'Lambic' , 'PaleAle', 'BrownAle']]\n",
    "y1 = beer['review_aroma']\n",
    "\n",
    "x_train, x_test, y1_train, y1_test = train_test_split(x, y1, test_size=0.3, random_state=1)"
   ]
  },
  {
   "cell_type": "code",
   "execution_count": 72,
   "id": "72d78d0e",
   "metadata": {},
   "outputs": [],
   "source": [
    "pipe_dict = {0: 'Linear regression', 1: 'Lasso regression', 2: 'Ridge regression', 3: 'Elastic Net'}\n",
    "\n",
    "# Fit the pipelines\n",
    "for pipe in pipelines:\n",
    "\tpipe.fit(x_train, y1_train)"
   ]
  },
  {
   "cell_type": "code",
   "execution_count": 73,
   "id": "e1ad7be0",
   "metadata": {},
   "outputs": [
    {
     "name": "stdout",
     "output_type": "stream",
     "text": [
      "Linear regression RMSE: 0.37830138729082435\n",
      "Linear regression MAE: 0.2809036077787704\n",
      "Lasso regression RMSE: 0.514214832103488\n",
      "Lasso regression MAE: 0.3779893986230629\n",
      "Ridge regression RMSE: 0.3783103113554372\n",
      "Ridge regression MAE: 0.2809052643021631\n",
      "Elastic Net RMSE: 0.5120385851331452\n",
      "Elastic Net MAE: 0.37612275464944495\n"
     ]
    }
   ],
   "source": [
    "for i,model in enumerate(pipelines):\n",
    "    pred = model.predict(x_test)\n",
    "    print(\"{} RMSE: {}\".format(pipe_dict[i],mean_squared_error(y1_test,pred, squared=False)))\n",
    "    print(\"{} MAE: {}\".format(pipe_dict[i],mean_absolute_error(y1_test,pred)))"
   ]
  },
  {
   "cell_type": "markdown",
   "id": "51941620",
   "metadata": {},
   "source": [
    "### Test out PCA components no. = 5"
   ]
  },
  {
   "cell_type": "code",
   "execution_count": 74,
   "id": "7731919b",
   "metadata": {},
   "outputs": [],
   "source": [
    "#Linear regression\n",
    "pipeline_ln=Pipeline([('scalar1',StandardScaler()),\n",
    "                     ('pca1',PCA(n_components=5)),\n",
    "                     ('Linear',LinearRegression())])"
   ]
  },
  {
   "cell_type": "code",
   "execution_count": 75,
   "id": "466c3f92",
   "metadata": {},
   "outputs": [],
   "source": [
    "#Lasso regression\n",
    "pipeline_ls=Pipeline([('scalar2',StandardScaler()),\n",
    "                     ('pca2',PCA(n_components=5)),\n",
    "                     ('Lasso',Lasso())])"
   ]
  },
  {
   "cell_type": "code",
   "execution_count": 76,
   "id": "fad9f97d",
   "metadata": {},
   "outputs": [],
   "source": [
    "#Ridge regression\n",
    "pipeline_rd=Pipeline([('scalar3',StandardScaler()),\n",
    "                     ('pca3',PCA(n_components=5)),\n",
    "                     ('Ridge',Ridge())])"
   ]
  },
  {
   "cell_type": "code",
   "execution_count": 77,
   "id": "b784bc65",
   "metadata": {},
   "outputs": [],
   "source": [
    "#Elastic Net regression\n",
    "pipeline_en=Pipeline([('scalar4',StandardScaler()),\n",
    "                     ('pca4',PCA(n_components=5)),\n",
    "                     ('Elastic Net',ElasticNet())])"
   ]
  },
  {
   "cell_type": "code",
   "execution_count": 78,
   "id": "eea5aac8",
   "metadata": {},
   "outputs": [],
   "source": [
    "pipelines = [pipeline_ln, pipeline_ls, pipeline_rd, pipeline_en]"
   ]
  },
  {
   "cell_type": "code",
   "execution_count": 79,
   "id": "deff5f76",
   "metadata": {},
   "outputs": [],
   "source": [
    "pipe_dict = {0: 'Linear regression', 1: 'Lasso regression', 2: 'Ridge regression', 3: 'Elastic Net'}\n",
    "\n",
    "# Fit the pipelines\n",
    "for pipe in pipelines:\n",
    "\tpipe.fit(x_train, y1_train)"
   ]
  },
  {
   "cell_type": "code",
   "execution_count": 80,
   "id": "f140321e",
   "metadata": {},
   "outputs": [
    {
     "name": "stdout",
     "output_type": "stream",
     "text": [
      "Linear regression RMSE: 0.37769140392535633\n",
      "Linear regression MAE: 0.27966661368124324\n",
      "Lasso regression RMSE: 0.514214832103488\n",
      "Lasso regression MAE: 0.3779893986230629\n",
      "Ridge regression RMSE: 0.37757962238188625\n",
      "Ridge regression MAE: 0.279615807192749\n",
      "Elastic Net RMSE: 0.5120387042545583\n",
      "Elastic Net MAE: 0.37612285883317514\n"
     ]
    }
   ],
   "source": [
    "for i,model in enumerate(pipelines):\n",
    "    pred = model.predict(x_test)\n",
    "    print(\"{} RMSE: {}\".format(pipe_dict[i],mean_squared_error(y1_test,pred, squared=False)))\n",
    "    print(\"{} MAE: {}\".format(pipe_dict[i],mean_absolute_error(y1_test,pred)))"
   ]
  },
  {
   "cell_type": "markdown",
   "id": "0815e9b3",
   "metadata": {},
   "source": [
    "### Test out PCA components no. = 2"
   ]
  },
  {
   "cell_type": "code",
   "execution_count": 81,
   "id": "ec419bb5",
   "metadata": {},
   "outputs": [],
   "source": [
    "#Linear regression\n",
    "pipeline_ln=Pipeline([('scalar1',StandardScaler()),\n",
    "                     ('pca1',PCA(n_components=2)),\n",
    "                     ('Linear',LinearRegression())])"
   ]
  },
  {
   "cell_type": "code",
   "execution_count": 82,
   "id": "e371f27c",
   "metadata": {},
   "outputs": [],
   "source": [
    "#Lasso regression\n",
    "pipeline_ls=Pipeline([('scalar2',StandardScaler()),\n",
    "                     ('pca2',PCA(n_components=2)),\n",
    "                     ('Lasso',Lasso())])"
   ]
  },
  {
   "cell_type": "code",
   "execution_count": 83,
   "id": "bca791d9",
   "metadata": {},
   "outputs": [],
   "source": [
    "#Ridge regression\n",
    "pipeline_rd=Pipeline([('scalar3',StandardScaler()),\n",
    "                     ('pca3',PCA(n_components=2)),\n",
    "                     ('Ridge',Ridge())])"
   ]
  },
  {
   "cell_type": "code",
   "execution_count": 84,
   "id": "79d58591",
   "metadata": {},
   "outputs": [],
   "source": [
    "#Elastic Net regression\n",
    "pipeline_en=Pipeline([('scalar4',StandardScaler()),\n",
    "                     ('pca4',PCA(n_components=2)),\n",
    "                     ('Elastic Net',ElasticNet())])"
   ]
  },
  {
   "cell_type": "code",
   "execution_count": 85,
   "id": "9a65cbf2",
   "metadata": {},
   "outputs": [],
   "source": [
    "pipelines = [pipeline_ln, pipeline_ls, pipeline_rd, pipeline_en]"
   ]
  },
  {
   "cell_type": "code",
   "execution_count": 86,
   "id": "c13a8f19",
   "metadata": {},
   "outputs": [],
   "source": [
    "pipe_dict = {0: 'Linear regression', 1: 'Lasso regression', 2: 'Ridge regression', 3: 'Elastic Net'}\n",
    "\n",
    "# Fit the pipelines\n",
    "for pipe in pipelines:\n",
    "\tpipe.fit(x_train, y1_train)"
   ]
  },
  {
   "cell_type": "code",
   "execution_count": 87,
   "id": "74f50660",
   "metadata": {},
   "outputs": [
    {
     "name": "stdout",
     "output_type": "stream",
     "text": [
      "Linear regression RMSE: 0.4178059495469267\n",
      "Linear regression MAE: 0.30702967538393594\n",
      "Lasso regression RMSE: 0.514214832103488\n",
      "Lasso regression MAE: 0.3779893986230629\n",
      "Ridge regression RMSE: 0.41780808941174746\n",
      "Ridge regression MAE: 0.3070283531931562\n",
      "Elastic Net RMSE: 0.5120387476910622\n",
      "Elastic Net MAE: 0.37612289543442834\n"
     ]
    }
   ],
   "source": [
    "for i,model in enumerate(pipelines):\n",
    "    pred = model.predict(x_test)\n",
    "    print(\"{} RMSE: {}\".format(pipe_dict[i],mean_squared_error(y1_test,pred, squared=False)))\n",
    "    print(\"{} MAE: {}\".format(pipe_dict[i],mean_absolute_error(y1_test,pred)))"
   ]
  },
  {
   "cell_type": "markdown",
   "id": "5ec64996",
   "metadata": {},
   "source": [
    "### Test out without PCA components"
   ]
  },
  {
   "cell_type": "code",
   "execution_count": 126,
   "id": "d5609bfc",
   "metadata": {},
   "outputs": [],
   "source": [
    "#Linear regression\n",
    "pipeline_ln=Pipeline([('scalar1',StandardScaler()),\n",
    "                     ('Linear',LinearRegression())])"
   ]
  },
  {
   "cell_type": "code",
   "execution_count": 127,
   "id": "05af9497",
   "metadata": {},
   "outputs": [],
   "source": [
    "#Lasso regression\n",
    "pipeline_ls=Pipeline([('scalar2',StandardScaler()),\n",
    "                     ('Lasso',Lasso())])"
   ]
  },
  {
   "cell_type": "code",
   "execution_count": 128,
   "id": "0b39407d",
   "metadata": {},
   "outputs": [],
   "source": [
    "#Ridge regression\n",
    "pipeline_rd=Pipeline([('scalar3',StandardScaler()),\n",
    "                     ('Ridge',Ridge())])"
   ]
  },
  {
   "cell_type": "code",
   "execution_count": 129,
   "id": "44281e82",
   "metadata": {},
   "outputs": [],
   "source": [
    "#Elastic Net regression\n",
    "pipeline_en=Pipeline([('scalar4',StandardScaler()),\n",
    "                     ('Elastic Net',ElasticNet())])"
   ]
  },
  {
   "cell_type": "code",
   "execution_count": 92,
   "id": "a553e39f",
   "metadata": {},
   "outputs": [],
   "source": [
    "pipelines = [pipeline_ln, pipeline_ls, pipeline_rd, pipeline_en]"
   ]
  },
  {
   "cell_type": "code",
   "execution_count": 93,
   "id": "aed45f1e",
   "metadata": {},
   "outputs": [],
   "source": [
    "pipe_dict = {0: 'Linear regression', 1: 'Lasso regression', 2: 'Ridge regression', 3: 'Elastic Net'}\n",
    "\n",
    "# Fit the pipelines\n",
    "for pipe in pipelines:\n",
    "\tpipe.fit(x_train, y1_train)"
   ]
  },
  {
   "cell_type": "code",
   "execution_count": 94,
   "id": "1bf2a979",
   "metadata": {},
   "outputs": [
    {
     "name": "stdout",
     "output_type": "stream",
     "text": [
      "Linear regression RMSE: 0.36394189025706064\n",
      "Linear regression MAE: 0.26191880262562744\n",
      "Lasso regression RMSE: 0.514214832103488\n",
      "Lasso regression MAE: 0.3779893986230629\n",
      "Ridge regression RMSE: 0.3638995855622457\n",
      "Ridge regression MAE: 0.2619142795482296\n",
      "Elastic Net RMSE: 0.514214832103488\n",
      "Elastic Net MAE: 0.3779893986230629\n"
     ]
    }
   ],
   "source": [
    "for i,model in enumerate(pipelines):\n",
    "    pred = model.predict(x_test)\n",
    "    print(\"{} RMSE: {}\".format(pipe_dict[i],mean_squared_error(y1_test,pred, squared=False)))\n",
    "    print(\"{} MAE: {}\".format(pipe_dict[i],mean_absolute_error(y1_test,pred)))"
   ]
  },
  {
   "cell_type": "markdown",
   "id": "3041276f",
   "metadata": {},
   "source": [
    "#### We conclude that PCA have negative on the model performance, while ridge regression is the best among all for aroma_review"
   ]
  },
  {
   "cell_type": "markdown",
   "id": "8e3c0678",
   "metadata": {},
   "source": [
    "#### Moving on to build other model\n",
    "\n",
    "#### Appearance"
   ]
  },
  {
   "cell_type": "code",
   "execution_count": 95,
   "id": "e07162f2",
   "metadata": {},
   "outputs": [],
   "source": [
    "#Define Variable + Train Test Split\n",
    "x =beer[['ABV', 'Min_IBU',\n",
    "       'Max_IBU', 'Astringency', 'Body', 'Alcohol', 'Bitter', 'Sweet', 'Sour',\n",
    "       'Salty', 'Fruits', 'Hoppy', 'Spices', 'Malty' , 'Lager' , 'Stout' ,'WheatBeer',\\\n",
    "        'Porter' , 'IPA' , 'Bock', 'StrongAle' , 'Lambic' , 'PaleAle', 'BrownAle']]\n",
    "y2 = beer['review_appearance']\n",
    "\n",
    "x_train, x_test, y2_train, y2_test = train_test_split(x, y2, test_size=0.3, random_state=1)"
   ]
  },
  {
   "cell_type": "code",
   "execution_count": 96,
   "id": "8c75b22c",
   "metadata": {},
   "outputs": [],
   "source": [
    "pipe_dict = {0: 'Linear regression', 1: 'Lasso regression', 2: 'Ridge regression', 3: 'Elastic Net'}\n",
    "\n",
    "# Fit the pipelines\n",
    "for pipe in pipelines:\n",
    "\tpipe.fit(x_train, y2_train)"
   ]
  },
  {
   "cell_type": "code",
   "execution_count": 97,
   "id": "8a187e3e",
   "metadata": {},
   "outputs": [
    {
     "name": "stdout",
     "output_type": "stream",
     "text": [
      "Linear regression RMSE: 0.29894295027196205\n",
      "Linear regression MAE: 0.2216239405283811\n",
      "Lasso regression RMSE: 0.4073142242074404\n",
      "Lasso regression MAE: 0.2993135625838176\n",
      "Ridge regression RMSE: 0.2989299593416431\n",
      "Ridge regression MAE: 0.221625972011333\n",
      "Elastic Net RMSE: 0.4073142242074404\n",
      "Elastic Net MAE: 0.2993135625838176\n"
     ]
    }
   ],
   "source": [
    "for i,model in enumerate(pipelines):\n",
    "    pred = model.predict(x_test)\n",
    "    print(\"{} RMSE: {}\".format(pipe_dict[i],mean_squared_error(y2_test,pred, squared=False)))\n",
    "    print(\"{} MAE: {}\".format(pipe_dict[i],mean_absolute_error(y2_test,pred)))"
   ]
  },
  {
   "cell_type": "markdown",
   "id": "ea358b0e",
   "metadata": {},
   "source": [
    "#### Linear regression is best for appearance"
   ]
  },
  {
   "cell_type": "markdown",
   "id": "24921ad3",
   "metadata": {},
   "source": [
    "### Palate"
   ]
  },
  {
   "cell_type": "code",
   "execution_count": 98,
   "id": "275c360e",
   "metadata": {},
   "outputs": [],
   "source": [
    "#Define Variable + Train Test Split\n",
    "x =beer[['ABV', 'Min_IBU',\n",
    "       'Max_IBU', 'Astringency', 'Body', 'Alcohol', 'Bitter', 'Sweet', 'Sour',\n",
    "       'Salty', 'Fruits', 'Hoppy', 'Spices', 'Malty' , 'Lager' , 'Stout' ,'WheatBeer',\\\n",
    "        'Porter' , 'IPA' , 'Bock', 'StrongAle' , 'Lambic' , 'PaleAle', 'BrownAle']]\n",
    "y3 = beer['review_palate']\n",
    "\n",
    "x_train, x_test, y3_train, y3_test = train_test_split(x, y3, test_size=0.3, random_state=1)"
   ]
  },
  {
   "cell_type": "code",
   "execution_count": 99,
   "id": "e7c3a4d4",
   "metadata": {},
   "outputs": [],
   "source": [
    "pipe_dict = {0: 'Linear regression', 1: 'Lasso regression', 2: 'Ridge regression', 3: 'Elastic Net'}\n",
    "\n",
    "# Fit the pipelines\n",
    "for pipe in pipelines:\n",
    "\tpipe.fit(x_train, y3_train)"
   ]
  },
  {
   "cell_type": "code",
   "execution_count": 100,
   "id": "50524100",
   "metadata": {},
   "outputs": [
    {
     "name": "stdout",
     "output_type": "stream",
     "text": [
      "Linear regression RMSE: 0.3497707233295192\n",
      "Linear regression MAE: 0.25035957651013885\n",
      "Lasso regression RMSE: 0.4612486905910987\n",
      "Lasso regression MAE: 0.33933546636352635\n",
      "Ridge regression RMSE: 0.3497171288980675\n",
      "Ridge regression MAE: 0.2503571490367189\n",
      "Elastic Net RMSE: 0.4612486905910987\n",
      "Elastic Net MAE: 0.33933546636352635\n"
     ]
    }
   ],
   "source": [
    "for i,model in enumerate(pipelines):\n",
    "    pred = model.predict(x_test)\n",
    "    print(\"{} RMSE: {}\".format(pipe_dict[i],mean_squared_error(y3_test,pred, squared=False)))\n",
    "    print(\"{} MAE: {}\".format(pipe_dict[i],mean_absolute_error(y3_test,pred)))"
   ]
  },
  {
   "cell_type": "markdown",
   "id": "562337a1",
   "metadata": {},
   "source": [
    "#### Ridge regression is best for palate"
   ]
  },
  {
   "cell_type": "markdown",
   "id": "bd8f6d53",
   "metadata": {},
   "source": [
    "### Taste"
   ]
  },
  {
   "cell_type": "code",
   "execution_count": 101,
   "id": "c973d030",
   "metadata": {},
   "outputs": [],
   "source": [
    "#Define Variable + Train Test Split\n",
    "x =beer[['ABV', 'Min_IBU',\n",
    "       'Max_IBU', 'Astringency', 'Body', 'Alcohol', 'Bitter', 'Sweet', 'Sour',\n",
    "       'Salty', 'Fruits', 'Hoppy', 'Spices', 'Malty' , 'Lager' , 'Stout' ,'WheatBeer',\\\n",
    "        'Porter' , 'IPA' , 'Bock', 'StrongAle' , 'Lambic' , 'PaleAle', 'BrownAle']]\n",
    "y4 = beer['review_taste']\n",
    "\n",
    "x_train, x_test, y4_train, y4_test = train_test_split(x, y4, test_size=0.3, random_state=1)"
   ]
  },
  {
   "cell_type": "code",
   "execution_count": 102,
   "id": "3cbd4f70",
   "metadata": {},
   "outputs": [],
   "source": [
    "pipe_dict = {0: 'Linear regression', 1: 'Lasso regression', 2: 'Ridge regression', 3: 'Elastic Net'}\n",
    "\n",
    "# Fit the pipelines\n",
    "for pipe in pipelines:\n",
    "\tpipe.fit(x_train, y4_train)"
   ]
  },
  {
   "cell_type": "code",
   "execution_count": 103,
   "id": "acee822e",
   "metadata": {},
   "outputs": [
    {
     "name": "stdout",
     "output_type": "stream",
     "text": [
      "Linear regression RMSE: 0.40237150189692095\n",
      "Linear regression MAE: 0.2887620263395449\n",
      "Lasso regression RMSE: 0.5242776919454132\n",
      "Lasso regression MAE: 0.3856573892187266\n",
      "Ridge regression RMSE: 0.40230155524470845\n",
      "Ridge regression MAE: 0.28875782801501537\n",
      "Elastic Net RMSE: 0.5242776919454132\n",
      "Elastic Net MAE: 0.3856573892187266\n"
     ]
    }
   ],
   "source": [
    "for i,model in enumerate(pipelines):\n",
    "    pred = model.predict(x_test)\n",
    "    print(\"{} RMSE: {}\".format(pipe_dict[i],mean_squared_error(y4_test,pred, squared=False)))\n",
    "    print(\"{} MAE: {}\".format(pipe_dict[i],mean_absolute_error(y4_test,pred)))"
   ]
  },
  {
   "cell_type": "markdown",
   "id": "25d7e254",
   "metadata": {},
   "source": [
    "#### Linear regression is best for Taste"
   ]
  },
  {
   "cell_type": "markdown",
   "id": "05f6b888",
   "metadata": {},
   "source": [
    "### Overall Review"
   ]
  },
  {
   "cell_type": "code",
   "execution_count": 104,
   "id": "433b5daf",
   "metadata": {},
   "outputs": [],
   "source": [
    "#Define Variable + Train Test Split\n",
    "xx =beer[['review_aroma', 'review_appearance','review_palate','review_taste']]\n",
    "yy = beer['review_overall']\n",
    "\n",
    "xx_train, xx_test, yy_train, yy_test = train_test_split(xx, yy, test_size=0.3, random_state=1)"
   ]
  },
  {
   "cell_type": "code",
   "execution_count": 105,
   "id": "9a631f08",
   "metadata": {},
   "outputs": [],
   "source": [
    "pipe_dict = {0: 'Linear regression', 1: 'Lasso regression', 2: 'Ridge regression', 3: 'Elastic Net'}\n",
    "\n",
    "# Fit the pipelines\n",
    "for pipe in pipelines:\n",
    "\tpipe.fit(xx_train, yy_train)"
   ]
  },
  {
   "cell_type": "code",
   "execution_count": 106,
   "id": "55183873",
   "metadata": {},
   "outputs": [
    {
     "name": "stdout",
     "output_type": "stream",
     "text": [
      "Linear regression RMSE: 0.1553187352978251\n",
      "Linear regression MAE: 0.10895471258605453\n",
      "Lasso regression RMSE: 0.4520122685658794\n",
      "Lasso regression MAE: 0.32822175367912754\n",
      "Ridge regression RMSE: 0.1553169817146913\n",
      "Ridge regression MAE: 0.10898453374970876\n",
      "Elastic Net RMSE: 0.4520122685658794\n",
      "Elastic Net MAE: 0.32822175367912754\n"
     ]
    }
   ],
   "source": [
    "for i,model in enumerate(pipelines):\n",
    "    pred = model.predict(xx_test)\n",
    "    print(\"{} RMSE: {}\".format(pipe_dict[i],mean_squared_error(yy_test,pred, squared=False)))\n",
    "    print(\"{} MAE: {}\".format(pipe_dict[i],mean_absolute_error(yy_test,pred)))"
   ]
  },
  {
   "cell_type": "markdown",
   "id": "5090fa3a",
   "metadata": {},
   "source": [
    "#### Ridge regression is best for Overall"
   ]
  },
  {
   "cell_type": "markdown",
   "id": "ff516415",
   "metadata": {},
   "source": [
    "# Model Intepretation"
   ]
  },
  {
   "cell_type": "code",
   "execution_count": 130,
   "id": "2639ed68",
   "metadata": {},
   "outputs": [],
   "source": [
    "#Define Variable + Train Test Split\n",
    "x =beer[['ABV', 'Min_IBU',\n",
    "       'Max_IBU', 'Astringency', 'Body', 'Alcohol', 'Bitter', 'Sweet', 'Sour',\n",
    "       'Salty', 'Fruits', 'Hoppy', 'Spices', 'Malty' , 'Lager' , 'Stout' ,'WheatBeer',\\\n",
    "        'Porter' , 'IPA' , 'Bock', 'StrongAle' , 'Lambic' , 'PaleAle', 'BrownAle']]\n",
    "y1 = beer['review_aroma']\n",
    "\n",
    "x_train, x_test, y1_train, y1_test = train_test_split(x, y1, test_size=0.3, random_state=1)"
   ]
  },
  {
   "cell_type": "code",
   "execution_count": 131,
   "id": "28eecde8",
   "metadata": {
    "scrolled": false
   },
   "outputs": [
    {
     "data": {
      "image/png": "[encoded data removed]",
      "text/plain": [
       "<Figure size 648x504 with 1 Axes>"
      ]
     },
     "metadata": {
      "needs_background": "light"
     },
     "output_type": "display_data"
    }
   ],
   "source": [
    "model_aroma = pipeline_rd.fit(x_train,y1_train)\n",
    "\n",
    "feature_names = model_aroma[:-1].get_feature_names_out()\n",
    "\n",
    "coefs = pd.DataFrame(\n",
    "    model_aroma[-1].coef_,\n",
    "    columns=[\"Coefficients\"],\n",
    "    index=feature_names,\n",
    ")\n",
    "\n",
    "coefs.plot.barh(figsize=(9, 7))\n",
    "plt.title(\"Aroma Ridge Regression\")\n",
    "plt.axvline(x=0, color=\".5\")\n",
    "plt.xlabel(\"Raw coefficient values\")\n",
    "plt.subplots_adjust(left=0.3)"
   ]
  },
  {
   "cell_type": "code",
   "execution_count": 132,
   "id": "39bc6304",
   "metadata": {},
   "outputs": [],
   "source": [
    "x =beer[['ABV', 'Min_IBU',\n",
    "       'Max_IBU', 'Astringency', 'Body', 'Alcohol', 'Bitter', 'Sweet', 'Sour',\n",
    "       'Salty', 'Fruits', 'Hoppy', 'Spices', 'Malty' , 'Lager' , 'Stout' ,'WheatBeer',\\\n",
    "        'Porter' , 'IPA' , 'Bock', 'StrongAle' , 'Lambic' , 'PaleAle', 'BrownAle']]\n",
    "y2 = beer['review_appearance']\n",
    "\n",
    "x_train, x_test, y2_train, y2_test = train_test_split(x, y2, test_size=0.3, random_state=1)"
   ]
  },
  {
   "cell_type": "code",
   "execution_count": 133,
   "id": "ecf8a3b3",
   "metadata": {
    "scrolled": false
   },
   "outputs": [
    {
     "data": {
      "image/png": "[encoded data removed]",
      "text/plain": [
       "<Figure size 648x504 with 1 Axes>"
      ]
     },
     "metadata": {
      "needs_background": "light"
     },
     "output_type": "display_data"
    }
   ],
   "source": [
    "model_appearance = pipeline_ln.fit(x_train,y2_train)\n",
    "\n",
    "feature_names = model_appearance[:-1].get_feature_names_out()\n",
    "\n",
    "coefs = pd.DataFrame(\n",
    "    model_appearance[-1].coef_,\n",
    "    columns=[\"Coefficients\"],\n",
    "    index=feature_names,\n",
    ")\n",
    "\n",
    "coefs.plot.barh(figsize=(9, 7))\n",
    "plt.title(\"Appearance Linear Regression\")\n",
    "plt.axvline(x=0, color=\".5\")\n",
    "plt.xlabel(\"Raw coefficient values\")\n",
    "plt.subplots_adjust(left=0.3)"
   ]
  },
  {
   "cell_type": "code",
   "execution_count": 134,
   "id": "98d31305",
   "metadata": {},
   "outputs": [],
   "source": [
    "x =beer[['ABV', 'Min_IBU',\n",
    "       'Max_IBU', 'Astringency', 'Body', 'Alcohol', 'Bitter', 'Sweet', 'Sour',\n",
    "       'Salty', 'Fruits', 'Hoppy', 'Spices', 'Malty' , 'Lager' , 'Stout' ,'WheatBeer',\\\n",
    "        'Porter' , 'IPA' , 'Bock', 'StrongAle' , 'Lambic' , 'PaleAle', 'BrownAle']]\n",
    "y3 = beer['review_palate']\n",
    "\n",
    "x_train, x_test, y3_train, y3_test = train_test_split(x, y3, test_size=0.3, random_state=1)"
   ]
  },
  {
   "cell_type": "code",
   "execution_count": 150,
   "id": "64f73fe3",
   "metadata": {
    "scrolled": true
   },
   "outputs": [
    {
     "data": {
      "image/png": "[encoded data removed]",
      "text/plain": [
       "<Figure size 648x504 with 1 Axes>"
      ]
     },
     "metadata": {
      "needs_background": "light"
     },
     "output_type": "display_data"
    }
   ],
   "source": [
    "model_palate = pipeline_rd.fit(x_train,y3_train)\n",
    "\n",
    "feature_names = model_palate[:-1].get_feature_names_out()\n",
    "\n",
    "coefs = pd.DataFrame(\n",
    "    model_palate[-1].coef_,\n",
    "    columns=[\"Coefficients\"],\n",
    "    index=feature_names,\n",
    ")\n",
    "\n",
    "coefs.plot.barh(figsize=(9, 7))\n",
    "plt.title(\"Palate Ridge Regression\")\n",
    "plt.axvline(x=0, color=\".5\")\n",
    "plt.xlabel(\"Raw coefficient values\")\n",
    "plt.subplots_adjust(left=0.3)"
   ]
  },
  {
   "cell_type": "code",
   "execution_count": 136,
   "id": "9fc8a7a5",
   "metadata": {},
   "outputs": [],
   "source": [
    "x =beer[['ABV', 'Min_IBU',\n",
    "       'Max_IBU', 'Astringency', 'Body', 'Alcohol', 'Bitter', 'Sweet', 'Sour',\n",
    "       'Salty', 'Fruits', 'Hoppy', 'Spices', 'Malty' , 'Lager' , 'Stout' ,'WheatBeer',\\\n",
    "        'Porter' , 'IPA' , 'Bock', 'StrongAle' , 'Lambic' , 'PaleAle', 'BrownAle']]\n",
    "y4 = beer['review_taste']\n",
    "\n",
    "x_train, x_test, y4_train, y4_test = train_test_split(x, y4, test_size=0.3, random_state=1)"
   ]
  },
  {
   "cell_type": "code",
   "execution_count": 137,
   "id": "7579f185",
   "metadata": {},
   "outputs": [
    {
     "data": {
      "image/png": "[encoded data removed]",
      "text/plain": [
       "<Figure size 648x504 with 1 Axes>"
      ]
     },
     "metadata": {
      "needs_background": "light"
     },
     "output_type": "display_data"
    }
   ],
   "source": [
    "model_taste = pipeline_ln.fit(x_train,y4_train)\n",
    "\n",
    "feature_names = model_taste[:-1].get_feature_names_out()\n",
    "\n",
    "coefs = pd.DataFrame(\n",
    "    model_taste[-1].coef_,\n",
    "    columns=[\"Coefficients\"],\n",
    "    index=feature_names,\n",
    ")\n",
    "\n",
    "coefs.plot.barh(figsize=(9, 7))\n",
    "plt.title(\"Taste Linear Regression\")\n",
    "plt.axvline(x=0, color=\".5\")\n",
    "plt.xlabel(\"Raw coefficient values\")\n",
    "plt.subplots_adjust(left=0.3)"
   ]
  },
  {
   "cell_type": "code",
   "execution_count": 123,
   "id": "34aa8fd9",
   "metadata": {},
   "outputs": [],
   "source": [
    "#Define Variable + Train Test Split\n",
    "xx =beer[['review_aroma', 'review_appearance','review_palate','review_taste']]\n",
    "yy = beer['review_overall']\n",
    "\n",
    "xx_train, xx_test, yy_train, yy_test = train_test_split(xx, yy, test_size=0.3, random_state=1)"
   ]
  },
  {
   "cell_type": "code",
   "execution_count": 124,
   "id": "b94a6799",
   "metadata": {},
   "outputs": [
    {
     "data": {
      "image/png": "[encoded data removed]",
      "text/plain": [
       "<Figure size 648x504 with 1 Axes>"
      ]
     },
     "metadata": {
      "needs_background": "light"
     },
     "output_type": "display_data"
    }
   ],
   "source": [
    "model_overall = pipeline_rd.fit(xx_train,yy_train)\n",
    "\n",
    "feature_names = model_overall[:-1].get_feature_names_out()\n",
    "\n",
    "coefs = pd.DataFrame(\n",
    "    model_overall[-1].coef_,\n",
    "    columns=[\"Coefficients\"],\n",
    "    index=feature_names,\n",
    ")\n",
    "\n",
    "coefs.plot.barh(figsize=(9, 7))\n",
    "plt.title(\"Overall Ridge Regression\")\n",
    "plt.axvline(x=0, color=\".5\")\n",
    "plt.xlabel(\"Raw coefficient values\")\n",
    "plt.subplots_adjust(left=0.3)"
   ]
  },
  {
   "cell_type": "markdown",
   "id": "fb366f35",
   "metadata": {},
   "source": [
    "# 4+1 Model Evaluation"
   ]
  },
  {
   "cell_type": "code",
   "execution_count": 138,
   "id": "36d6d618",
   "metadata": {},
   "outputs": [],
   "source": [
    "taste_pred = model_taste.predict(x_test)\n",
    "palate_pred = model_palate.predict(x_test)\n",
    "appearance_pred = model_appearance.predict(x_test)\n",
    "aroma_pred = model_aroma.predict(x_test)"
   ]
  },
  {
   "cell_type": "code",
   "execution_count": 139,
   "id": "8e53045f",
   "metadata": {},
   "outputs": [
    {
     "data": {
      "text/html": [
       "<div>\n",
       "<style scoped>\n",
       "    .dataframe tbody tr th:only-of-type {\n",
       "        vertical-align: middle;\n",
       "    }\n",
       "\n",
       "    .dataframe tbody tr th {\n",
       "        vertical-align: top;\n",
       "    }\n",
       "\n",
       "    .dataframe thead th {\n",
       "        text-align: right;\n",
       "    }\n",
       "</style>\n",
       "<table border=\"1\" class=\"dataframe\">\n",
       "  <thead>\n",
       "    <tr style=\"text-align: right;\">\n",
       "      <th></th>\n",
       "      <th>review_aroma</th>\n",
       "      <th>review_appearance</th>\n",
       "      <th>review_palate</th>\n",
       "      <th>review_taste</th>\n",
       "    </tr>\n",
       "  </thead>\n",
       "  <tbody>\n",
       "    <tr>\n",
       "      <th>0</th>\n",
       "      <td>3.534615</td>\n",
       "      <td>3.634359</td>\n",
       "      <td>3.634359</td>\n",
       "      <td>3.634359</td>\n",
       "    </tr>\n",
       "    <tr>\n",
       "      <th>1</th>\n",
       "      <td>3.306372</td>\n",
       "      <td>3.352325</td>\n",
       "      <td>3.352325</td>\n",
       "      <td>3.352325</td>\n",
       "    </tr>\n",
       "    <tr>\n",
       "      <th>2</th>\n",
       "      <td>3.703079</td>\n",
       "      <td>3.761415</td>\n",
       "      <td>3.761415</td>\n",
       "      <td>3.761415</td>\n",
       "    </tr>\n",
       "    <tr>\n",
       "      <th>3</th>\n",
       "      <td>3.585427</td>\n",
       "      <td>3.618777</td>\n",
       "      <td>3.618777</td>\n",
       "      <td>3.618777</td>\n",
       "    </tr>\n",
       "    <tr>\n",
       "      <th>4</th>\n",
       "      <td>4.104706</td>\n",
       "      <td>4.068900</td>\n",
       "      <td>4.068900</td>\n",
       "      <td>4.068900</td>\n",
       "    </tr>\n",
       "    <tr>\n",
       "      <th>...</th>\n",
       "      <td>...</td>\n",
       "      <td>...</td>\n",
       "      <td>...</td>\n",
       "      <td>...</td>\n",
       "    </tr>\n",
       "    <tr>\n",
       "      <th>955</th>\n",
       "      <td>3.753667</td>\n",
       "      <td>3.802687</td>\n",
       "      <td>3.802687</td>\n",
       "      <td>3.802687</td>\n",
       "    </tr>\n",
       "    <tr>\n",
       "      <th>956</th>\n",
       "      <td>4.233484</td>\n",
       "      <td>4.279888</td>\n",
       "      <td>4.279888</td>\n",
       "      <td>4.279888</td>\n",
       "    </tr>\n",
       "    <tr>\n",
       "      <th>957</th>\n",
       "      <td>3.859775</td>\n",
       "      <td>3.956525</td>\n",
       "      <td>3.956525</td>\n",
       "      <td>3.956525</td>\n",
       "    </tr>\n",
       "    <tr>\n",
       "      <th>958</th>\n",
       "      <td>3.576733</td>\n",
       "      <td>3.665882</td>\n",
       "      <td>3.665882</td>\n",
       "      <td>3.665882</td>\n",
       "    </tr>\n",
       "    <tr>\n",
       "      <th>959</th>\n",
       "      <td>3.750004</td>\n",
       "      <td>3.787074</td>\n",
       "      <td>3.787074</td>\n",
       "      <td>3.787074</td>\n",
       "    </tr>\n",
       "  </tbody>\n",
       "</table>\n",
       "<p>960 rows × 4 columns</p>\n",
       "</div>"
      ],
      "text/plain": [
       "     review_aroma  review_appearance  review_palate  review_taste\n",
       "0        3.534615           3.634359       3.634359      3.634359\n",
       "1        3.306372           3.352325       3.352325      3.352325\n",
       "2        3.703079           3.761415       3.761415      3.761415\n",
       "3        3.585427           3.618777       3.618777      3.618777\n",
       "4        4.104706           4.068900       4.068900      4.068900\n",
       "..            ...                ...            ...           ...\n",
       "955      3.753667           3.802687       3.802687      3.802687\n",
       "956      4.233484           4.279888       4.279888      4.279888\n",
       "957      3.859775           3.956525       3.956525      3.956525\n",
       "958      3.576733           3.665882       3.665882      3.665882\n",
       "959      3.750004           3.787074       3.787074      3.787074\n",
       "\n",
       "[960 rows x 4 columns]"
      ]
     },
     "execution_count": 139,
     "metadata": {},
     "output_type": "execute_result"
    }
   ],
   "source": [
    "x_pred={'review_aroma':aroma_pred, 'review_appearance':appearance_pred, 'review_palate':palate_pred, 'review_taste':taste_pred}\n",
    "x_pred=pd.DataFrame(data=x_pred)\n",
    "x_pred"
   ]
  },
  {
   "cell_type": "code",
   "execution_count": 140,
   "id": "6732132b",
   "metadata": {},
   "outputs": [],
   "source": [
    "xx_pred = model_overall.predict(x_pred)"
   ]
  },
  {
   "cell_type": "code",
   "execution_count": 141,
   "id": "7f644f5e",
   "metadata": {},
   "outputs": [
    {
     "name": "stdout",
     "output_type": "stream",
     "text": [
      "Root Mean Square Error:\n",
      "\n",
      "0.3804399551203283\n"
     ]
    }
   ],
   "source": [
    "from sklearn.metrics import mean_squared_error\n",
    "import math\n",
    "MSE = mean_squared_error(xx_pred, yy_test)\n",
    " \n",
    "RMSE = math.sqrt(MSE)\n",
    "print(\"Root Mean Square Error:\\n\")\n",
    "print(RMSE)"
   ]
  },
  {
   "cell_type": "markdown",
   "id": "5ae26ded",
   "metadata": {},
   "source": [
    "# Benchmarking with a 1-layer model"
   ]
  },
  {
   "cell_type": "code",
   "execution_count": 142,
   "id": "142832f1",
   "metadata": {},
   "outputs": [],
   "source": [
    "#Define Variable + Train Test Split\n",
    "x =beer[['ABV', 'Min_IBU',\n",
    "       'Max_IBU', 'Astringency', 'Body', 'Alcohol', 'Bitter', 'Sweet', 'Sour',\n",
    "       'Salty', 'Fruits', 'Hoppy', 'Spices', 'Malty' , 'Lager' , 'Stout' ,'WheatBeer',\\\n",
    "        'Porter' , 'IPA' , 'Bock', 'StrongAle' , 'Lambic' , 'PaleAle', 'BrownAle']]\n",
    "yy = beer['review_overall']\n",
    "\n",
    "x_train, x_test, yy_train, yy_test = train_test_split(x, yy, test_size=0.3, random_state=1)"
   ]
  },
  {
   "cell_type": "code",
   "execution_count": 143,
   "id": "0913e0a8",
   "metadata": {},
   "outputs": [],
   "source": [
    "pipe_dict = {0: 'Linear regression', 1: 'Lasso regression', 2: 'Ridge regression', 3: 'Elastic Net'}\n",
    "\n",
    "# Fit the pipelines\n",
    "for pipe in pipelines:\n",
    "\tpipe.fit(x_train, yy_train)"
   ]
  },
  {
   "cell_type": "code",
   "execution_count": 668,
   "id": "0d39485e",
   "metadata": {},
   "outputs": [
    {
     "name": "stdout",
     "output_type": "stream",
     "text": [
      "Linear regression RMSE: 0.3676810057317434\n",
      "Linear regression MAE: 0.2657790522836721\n",
      "Lasso regression RMSE: 0.4520122685658794\n",
      "Lasso regression MAE: 0.32822175367912754\n",
      "Ridge regression RMSE: 0.3676349465043943\n",
      "Ridge regression MAE: 0.26577430564982363\n",
      "Elastic Net RMSE: 0.4520122685658794\n",
      "Elastic Net MAE: 0.32822175367912754\n"
     ]
    }
   ],
   "source": [
    "for i,model in enumerate(pipelines):\n",
    "    pred = model.predict(x_test)\n",
    "    print(\"{} RMSE: {}\".format(pipe_dict[i],mean_squared_error(yy_test,pred, squared=False)))\n",
    "    print(\"{} MAE: {}\".format(pipe_dict[i],mean_absolute_error(yy_test,pred)))"
   ]
  },
  {
   "cell_type": "markdown",
   "id": "f44fb5ae",
   "metadata": {},
   "source": [
    "Ridge is the best"
   ]
  },
  {
   "cell_type": "code",
   "execution_count": 145,
   "id": "4b27a50a",
   "metadata": {},
   "outputs": [],
   "source": [
    "model_overall = pipeline_rd.fit(x_train,yy_train)"
   ]
  },
  {
   "cell_type": "code",
   "execution_count": 146,
   "id": "b7c235a0",
   "metadata": {},
   "outputs": [],
   "source": [
    "x_pred = model_overall.predict(x_test)"
   ]
  },
  {
   "cell_type": "code",
   "execution_count": 147,
   "id": "9d5f90e4",
   "metadata": {},
   "outputs": [
    {
     "name": "stdout",
     "output_type": "stream",
     "text": [
      "Root Mean Square Error:\n",
      "\n",
      "0.3676349465043943\n"
     ]
    }
   ],
   "source": [
    "from sklearn.metrics import mean_squared_error\n",
    "import math\n",
    "MSE = mean_squared_error(x_pred, yy_test)\n",
    " \n",
    "RMSE = math.sqrt(MSE)\n",
    "print(\"Root Mean Square Error:\\n\")\n",
    "print(RMSE)"
   ]
  },
  {
   "cell_type": "code",
   "execution_count": 148,
   "id": "ebedc5df",
   "metadata": {},
   "outputs": [
    {
     "data": {
      "image/png": "[encoded data removed]",
      "text/plain": [
       "<Figure size 648x504 with 1 Axes>"
      ]
     },
     "metadata": {
      "needs_background": "light"
     },
     "output_type": "display_data"
    }
   ],
   "source": [
    "feature_names = model_overall[:-1].get_feature_names_out()\n",
    "\n",
    "coefs = pd.DataFrame(\n",
    "    model_overall[-1].coef_,\n",
    "    columns=[\"Coefficients\"],\n",
    "    index=feature_names,\n",
    ")\n",
    "\n",
    "coefs.plot.barh(figsize=(9, 7))\n",
    "plt.title(\"Overall Ridge Regression\")\n",
    "plt.axvline(x=0, color=\".5\")\n",
    "plt.xlabel(\"Raw coefficient values\")\n",
    "plt.subplots_adjust(left=0.3)"
   ]
  },
  {
   "cell_type": "markdown",
   "id": "82fc458c",
   "metadata": {},
   "source": [
    "Our model didn't perform as good as the traditional model\n",
    "but we have good insights from the building process"
   ]
  },
  {
   "cell_type": "code",
   "execution_count": null,
   "id": "392edf3c",
   "metadata": {},
   "outputs": [],
   "source": []
  }
 ],
 "metadata": {
  "kernelspec": {
   "display_name": "Python 3 (ipykernel)",
   "language": "python",
   "name": "python3"
  },
  "language_info": {
   "codemirror_mode": {
    "name": "ipython",
    "version": 3
   },
   "file_extension": ".py",
   "mimetype": "text/x-python",
   "name": "python",
   "nbconvert_exporter": "python",
   "pygments_lexer": "ipython3",
   "version": "3.9.12 (main, Apr  4 2022, 05:22:27) [MSC v.1916 64 bit (AMD64)]"
  },
  "vscode": {
   "interpreter": {
    "hash": "91374e123bc7a669bba28903b5f5e560cc8212b9f306bb4dd4f196a0aa71a4e7"
   }
  }
 },
 "nbformat": 4,
 "nbformat_minor": 5
}
